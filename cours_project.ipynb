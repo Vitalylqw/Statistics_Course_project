{
 "cells": [
  {
   "cell_type": "code",
   "execution_count": 1,
   "metadata": {},
   "outputs": [],
   "source": [
    "import numpy as np\n",
    "import pandas as pd\n",
    "from matplotlib import pyplot as plt\n",
    "from mpl_toolkits.mplot3d import Axes3D\n",
    "from scipy import stats\n",
    "from sklearn.linear_model import LinearRegression\n",
    "from sklearn.metrics import r2_score\n",
    "from sklearn.linear_model import LogisticRegression\n",
    "from sklearn.metrics import accuracy_score\n",
    "\n",
    "plt.style.use('seaborn-whitegrid')"
   ]
  },
  {
   "cell_type": "code",
   "execution_count": 2,
   "metadata": {},
   "outputs": [
    {
     "data": {
      "text/html": [
       "<div>\n",
       "<style scoped>\n",
       "    .dataframe tbody tr th:only-of-type {\n",
       "        vertical-align: middle;\n",
       "    }\n",
       "\n",
       "    .dataframe tbody tr th {\n",
       "        vertical-align: top;\n",
       "    }\n",
       "\n",
       "    .dataframe thead th {\n",
       "        text-align: right;\n",
       "    }\n",
       "</style>\n",
       "<table border=\"1\" class=\"dataframe\">\n",
       "  <thead>\n",
       "    <tr style=\"text-align: right;\">\n",
       "      <th></th>\n",
       "      <th>Номер</th>\n",
       "      <th>Дата</th>\n",
       "      <th>Контрагент</th>\n",
       "      <th>СуммаСчета</th>\n",
       "      <th>КолПозиций</th>\n",
       "      <th>Год</th>\n",
       "      <th>Месяц</th>\n",
       "      <th>СтатусОтгрузки</th>\n",
       "    </tr>\n",
       "  </thead>\n",
       "  <tbody>\n",
       "    <tr>\n",
       "      <td>0</td>\n",
       "      <td>0000-000001</td>\n",
       "      <td>25.01.2013 17:24:07</td>\n",
       "      <td>Боргус</td>\n",
       "      <td>26876.00</td>\n",
       "      <td>19</td>\n",
       "      <td>2013</td>\n",
       "      <td>1</td>\n",
       "      <td>Отгружен</td>\n",
       "    </tr>\n",
       "    <tr>\n",
       "      <td>1</td>\n",
       "      <td>0000-000002</td>\n",
       "      <td>25.01.2013 18:26:56</td>\n",
       "      <td>Спецтранс</td>\n",
       "      <td>16520.00</td>\n",
       "      <td>1</td>\n",
       "      <td>2013</td>\n",
       "      <td>1</td>\n",
       "      <td>Отгружен</td>\n",
       "    </tr>\n",
       "    <tr>\n",
       "      <td>2</td>\n",
       "      <td>0000-000003</td>\n",
       "      <td>28.01.2013 14:46:55</td>\n",
       "      <td>Спецтранс</td>\n",
       "      <td>3980.14</td>\n",
       "      <td>1</td>\n",
       "      <td>2013</td>\n",
       "      <td>1</td>\n",
       "      <td>Отгружен</td>\n",
       "    </tr>\n",
       "    <tr>\n",
       "      <td>3</td>\n",
       "      <td>0000-000004</td>\n",
       "      <td>28.01.2013 15:23:55</td>\n",
       "      <td>Спецтранс</td>\n",
       "      <td>6873.50</td>\n",
       "      <td>4</td>\n",
       "      <td>2013</td>\n",
       "      <td>1</td>\n",
       "      <td>Отгружен</td>\n",
       "    </tr>\n",
       "    <tr>\n",
       "      <td>4</td>\n",
       "      <td>0000-000005</td>\n",
       "      <td>28.01.2013 15:35:52</td>\n",
       "      <td>Спецтранс</td>\n",
       "      <td>5040.00</td>\n",
       "      <td>3</td>\n",
       "      <td>2013</td>\n",
       "      <td>1</td>\n",
       "      <td>Отгружен</td>\n",
       "    </tr>\n",
       "    <tr>\n",
       "      <td>...</td>\n",
       "      <td>...</td>\n",
       "      <td>...</td>\n",
       "      <td>...</td>\n",
       "      <td>...</td>\n",
       "      <td>...</td>\n",
       "      <td>...</td>\n",
       "      <td>...</td>\n",
       "      <td>...</td>\n",
       "    </tr>\n",
       "    <tr>\n",
       "      <td>30155</td>\n",
       "      <td>КИ00-003084</td>\n",
       "      <td>28.08.2020 17:54:25</td>\n",
       "      <td>ПСТ-Строй</td>\n",
       "      <td>372875.40</td>\n",
       "      <td>47</td>\n",
       "      <td>2020</td>\n",
       "      <td>8</td>\n",
       "      <td>Не отгружен</td>\n",
       "    </tr>\n",
       "    <tr>\n",
       "      <td>30156</td>\n",
       "      <td>КИ00-003085</td>\n",
       "      <td>28.08.2020 17:59:40</td>\n",
       "      <td>ПСТ-Строй</td>\n",
       "      <td>95948.00</td>\n",
       "      <td>5</td>\n",
       "      <td>2020</td>\n",
       "      <td>8</td>\n",
       "      <td>Не отгружен</td>\n",
       "    </tr>\n",
       "    <tr>\n",
       "      <td>30157</td>\n",
       "      <td>СС00-001452</td>\n",
       "      <td>28.08.2020 18:42:19</td>\n",
       "      <td>СК Дали</td>\n",
       "      <td>1110.00</td>\n",
       "      <td>3</td>\n",
       "      <td>2020</td>\n",
       "      <td>8</td>\n",
       "      <td>Не отгружен</td>\n",
       "    </tr>\n",
       "    <tr>\n",
       "      <td>30158</td>\n",
       "      <td>СС00-001453</td>\n",
       "      <td>28.08.2020 19:12:38</td>\n",
       "      <td>СК Дали</td>\n",
       "      <td>125006.46</td>\n",
       "      <td>52</td>\n",
       "      <td>2020</td>\n",
       "      <td>8</td>\n",
       "      <td>Не отгружен</td>\n",
       "    </tr>\n",
       "    <tr>\n",
       "      <td>30159</td>\n",
       "      <td>СС00-001454</td>\n",
       "      <td>28.08.2020 20:03:38</td>\n",
       "      <td>СК Дали</td>\n",
       "      <td>0.00</td>\n",
       "      <td>5</td>\n",
       "      <td>2020</td>\n",
       "      <td>8</td>\n",
       "      <td>Не отгружен</td>\n",
       "    </tr>\n",
       "  </tbody>\n",
       "</table>\n",
       "<p>30160 rows × 8 columns</p>\n",
       "</div>"
      ],
      "text/plain": [
       "             Номер                 Дата Контрагент  СуммаСчета  КолПозиций  \\\n",
       "0      0000-000001  25.01.2013 17:24:07     Боргус    26876.00          19   \n",
       "1      0000-000002  25.01.2013 18:26:56  Спецтранс    16520.00           1   \n",
       "2      0000-000003  28.01.2013 14:46:55  Спецтранс     3980.14           1   \n",
       "3      0000-000004  28.01.2013 15:23:55  Спецтранс     6873.50           4   \n",
       "4      0000-000005  28.01.2013 15:35:52  Спецтранс     5040.00           3   \n",
       "...            ...                  ...        ...         ...         ...   \n",
       "30155  КИ00-003084  28.08.2020 17:54:25  ПСТ-Строй   372875.40          47   \n",
       "30156  КИ00-003085  28.08.2020 17:59:40  ПСТ-Строй    95948.00           5   \n",
       "30157  СС00-001452  28.08.2020 18:42:19    СК Дали     1110.00           3   \n",
       "30158  СС00-001453  28.08.2020 19:12:38    СК Дали   125006.46          52   \n",
       "30159  СС00-001454  28.08.2020 20:03:38    СК Дали        0.00           5   \n",
       "\n",
       "        Год  Месяц СтатусОтгрузки  \n",
       "0      2013      1       Отгружен  \n",
       "1      2013      1       Отгружен  \n",
       "2      2013      1       Отгружен  \n",
       "3      2013      1       Отгружен  \n",
       "4      2013      1       Отгружен  \n",
       "...     ...    ...            ...  \n",
       "30155  2020      8    Не отгружен  \n",
       "30156  2020      8    Не отгружен  \n",
       "30157  2020      8    Не отгружен  \n",
       "30158  2020      8    Не отгружен  \n",
       "30159  2020      8    Не отгружен  \n",
       "\n",
       "[30160 rows x 8 columns]"
      ]
     },
     "execution_count": 2,
     "metadata": {},
     "output_type": "execute_result"
    }
   ],
   "source": [
    "df = pd.read_excel('invoices.xlsx')\n",
    "df"
   ]
  },
  {
   "cell_type": "code",
   "execution_count": 3,
   "metadata": {},
   "outputs": [
    {
     "name": "stdout",
     "output_type": "stream",
     "text": [
      "<class 'pandas.core.frame.DataFrame'>\n",
      "RangeIndex: 30160 entries, 0 to 30159\n",
      "Data columns (total 8 columns):\n",
      "Номер             30160 non-null object\n",
      "Дата              30160 non-null object\n",
      "Контрагент        30160 non-null object\n",
      "СуммаСчета        30160 non-null float64\n",
      "КолПозиций        30160 non-null int64\n",
      "Год               30160 non-null int64\n",
      "Месяц             30160 non-null int64\n",
      "СтатусОтгрузки    30160 non-null object\n",
      "dtypes: float64(1), int64(3), object(4)\n",
      "memory usage: 1.8+ MB\n"
     ]
    }
   ],
   "source": [
    "df.info()"
   ]
  },
  {
   "cell_type": "markdown",
   "metadata": {},
   "source": [
    "Поле дата переделаем на тип дата.\n",
    "Год, месяц и Статус отгрузки поменям тип данных на катеогрии"
   ]
  },
  {
   "cell_type": "code",
   "execution_count": 4,
   "metadata": {},
   "outputs": [],
   "source": [
    "df['Дата']= pd.to_datetime(df['Дата']) \n",
    "df[['Год','Месяц','СтатусОтгрузки']] = df[['Год','Месяц','СтатусОтгрузки']].astype('category')"
   ]
  },
  {
   "cell_type": "code",
   "execution_count": 5,
   "metadata": {},
   "outputs": [
    {
     "name": "stdout",
     "output_type": "stream",
     "text": [
      "<class 'pandas.core.frame.DataFrame'>\n",
      "RangeIndex: 30160 entries, 0 to 30159\n",
      "Data columns (total 8 columns):\n",
      "Номер             30160 non-null object\n",
      "Дата              30160 non-null datetime64[ns]\n",
      "Контрагент        30160 non-null object\n",
      "СуммаСчета        30160 non-null float64\n",
      "КолПозиций        30160 non-null int64\n",
      "Год               30160 non-null category\n",
      "Месяц             30160 non-null category\n",
      "СтатусОтгрузки    30160 non-null category\n",
      "dtypes: category(3), datetime64[ns](1), float64(1), int64(1), object(2)\n",
      "memory usage: 1.2+ MB\n"
     ]
    }
   ],
   "source": [
    "df.info()"
   ]
  },
  {
   "cell_type": "code",
   "execution_count": 6,
   "metadata": {},
   "outputs": [
    {
     "data": {
      "text/html": [
       "<div>\n",
       "<style scoped>\n",
       "    .dataframe tbody tr th:only-of-type {\n",
       "        vertical-align: middle;\n",
       "    }\n",
       "\n",
       "    .dataframe tbody tr th {\n",
       "        vertical-align: top;\n",
       "    }\n",
       "\n",
       "    .dataframe thead th {\n",
       "        text-align: right;\n",
       "    }\n",
       "</style>\n",
       "<table border=\"1\" class=\"dataframe\">\n",
       "  <thead>\n",
       "    <tr style=\"text-align: right;\">\n",
       "      <th></th>\n",
       "      <th>СуммаСчета</th>\n",
       "      <th>КолПозиций</th>\n",
       "    </tr>\n",
       "  </thead>\n",
       "  <tbody>\n",
       "    <tr>\n",
       "      <td>count</td>\n",
       "      <td>3.016000e+04</td>\n",
       "      <td>30160.000000</td>\n",
       "    </tr>\n",
       "    <tr>\n",
       "      <td>mean</td>\n",
       "      <td>2.904561e+04</td>\n",
       "      <td>6.405570</td>\n",
       "    </tr>\n",
       "    <tr>\n",
       "      <td>std</td>\n",
       "      <td>7.003004e+04</td>\n",
       "      <td>8.817552</td>\n",
       "    </tr>\n",
       "    <tr>\n",
       "      <td>min</td>\n",
       "      <td>0.000000e+00</td>\n",
       "      <td>1.000000</td>\n",
       "    </tr>\n",
       "    <tr>\n",
       "      <td>25%</td>\n",
       "      <td>4.005450e+03</td>\n",
       "      <td>1.000000</td>\n",
       "    </tr>\n",
       "    <tr>\n",
       "      <td>50%</td>\n",
       "      <td>1.123730e+04</td>\n",
       "      <td>3.000000</td>\n",
       "    </tr>\n",
       "    <tr>\n",
       "      <td>75%</td>\n",
       "      <td>2.992258e+04</td>\n",
       "      <td>8.000000</td>\n",
       "    </tr>\n",
       "    <tr>\n",
       "      <td>max</td>\n",
       "      <td>3.751000e+06</td>\n",
       "      <td>213.000000</td>\n",
       "    </tr>\n",
       "  </tbody>\n",
       "</table>\n",
       "</div>"
      ],
      "text/plain": [
       "         СуммаСчета    КолПозиций\n",
       "count  3.016000e+04  30160.000000\n",
       "mean   2.904561e+04      6.405570\n",
       "std    7.003004e+04      8.817552\n",
       "min    0.000000e+00      1.000000\n",
       "25%    4.005450e+03      1.000000\n",
       "50%    1.123730e+04      3.000000\n",
       "75%    2.992258e+04      8.000000\n",
       "max    3.751000e+06    213.000000"
      ]
     },
     "execution_count": 6,
     "metadata": {},
     "output_type": "execute_result"
    }
   ],
   "source": [
    "df.describe()"
   ]
  },
  {
   "cell_type": "markdown",
   "metadata": {},
   "source": [
    "Отработаем показатель колиечство позиций в одном счете.\n",
    "\n",
    "\n",
    "Этот показатель важен тем что определяет трудоемкость выставления счета и обработки заявки клиента.\n",
    "Так же это важно при планировании трудовых ресурсов для работы с клиентом\n",
    "\n"
   ]
  },
  {
   "cell_type": "code",
   "execution_count": 7,
   "metadata": {},
   "outputs": [
    {
     "name": "stdout",
     "output_type": "stream",
     "text": [
      "Среднее значение - 6.405570291777188\n",
      "Стандартное отклонение - 8.817552450326701\n",
      "дисперсия - 77.74923121426242\n",
      "минимальное значение - 1\n",
      "максимальное значение - 213\n",
      "медиана - 3.0\n",
      "первый квартиль - 1.0\n",
      "третий квартиль - 8.0\n",
      "интерквартильное расстояние - 7.0\n"
     ]
    }
   ],
   "source": [
    "print('Среднее значение -', df['КолПозиций'].mean())\n",
    "print('Стандартное отклонение -', df['КолПозиций'].std())\n",
    "print('дисперсия -', df['КолПозиций'].var())\n",
    "print('минимальное значение -', df['КолПозиций'].min())\n",
    "print('максимальное значение -', df['КолПозиций'].max())\n",
    "print('медиана -', df['КолПозиций'].median())\n",
    "print('первый квартиль -', df['КолПозиций'].quantile(0.25))\n",
    "q_3_pos = df['КолПозиций'].quantile(0.75)\n",
    "print('третий квартиль -', q_3_pos)\n",
    "i_q_pos = df['КолПозиций'].quantile(0.75)-df['КолПозиций'].quantile(0.25)\n",
    "print('интерквартильное расстояние -', i_q_pos)\n",
    "general_indicators_pos = np.array([df['КолПозиций'].mean(),df['КолПозиций'].std(),df['КолПозиций'].median(),df['КолПозиций'].quantile(0.25),df['КолПозиций'].quantile(0.75)])\n"
   ]
  },
  {
   "cell_type": "code",
   "execution_count": 8,
   "metadata": {},
   "outputs": [
    {
     "data": {
      "image/png": "[encoded data removed]",
      "text/plain": [
       "<Figure size 432x288 with 1 Axes>"
      ]
     },
     "metadata": {
      "needs_background": "light"
     },
     "output_type": "display_data"
    }
   ],
   "source": [
    "# Гистограмма\n",
    "plt.hist(df['КолПозиций'],bins=100)\n",
    "plt.show()"
   ]
  },
  {
   "cell_type": "markdown",
   "metadata": {},
   "source": [
    "Возмем 20 случаныйх выборок по 300 элементов и проанализирем, средние показатели по выборкам"
   ]
  },
  {
   "cell_type": "code",
   "execution_count": 9,
   "metadata": {},
   "outputs": [],
   "source": [
    "alternative = np.array([np.random.choice(df['КолПозиций'],300) for i in range(20)])"
   ]
  },
  {
   "cell_type": "code",
   "execution_count": 10,
   "metadata": {},
   "outputs": [
    {
     "data": {
      "text/plain": [
       "array([6.4005    , 8.46998344, 3.075     , 1.0375    , 7.975     ])"
      ]
     },
     "execution_count": 10,
     "metadata": {},
     "output_type": "execute_result"
    }
   ],
   "source": [
    "# Расчитаем основные статистики по каждой полученной выборке\n",
    "alternative_indicators_pos = np.array([alternative.mean(axis=1),alternative.std(axis=1),\\\n",
    "                                   np.median(alternative,axis=1),np.quantile(alternative,0.25,axis = 1),\\\n",
    "                                   np.quantile(alternative,0.75,axis = 1)])\n",
    "# Возмем средние статистики по по каждой выборке\n",
    "alternative_indicators_pos_means = alternative_indicators_pos.mean(axis = 1)\n",
    "alternative_indicators_pos_means"
   ]
  },
  {
   "cell_type": "code",
   "execution_count": 11,
   "metadata": {},
   "outputs": [
    {
     "name": "stdout",
     "output_type": "stream",
     "text": [
      "Cредневыборочные показатели:\n",
      "\n",
      "Среднее значение - 6.400499999999999\n",
      "Стандартное отклонение - 8.469983439539181\n",
      "медиана - 3.075\n",
      "первый квартиль - 1.0375\n",
      "четвертый квартиль - 7.975\n"
     ]
    }
   ],
   "source": [
    "# средневыборочные показатели\n",
    "print('Cредневыборочные показатели:'+'\\n')\n",
    "print('Среднее значение -', alternative_indicators_pos_means[0])\n",
    "print('Стандартное отклонение -', alternative_indicators_pos_means[1])\n",
    "print('медиана -', alternative_indicators_pos_means[2])\n",
    "print('первый квартиль -', alternative_indicators_pos_means[3])\n",
    "print('четвертый квартиль -', alternative_indicators_pos_means[4])"
   ]
  },
  {
   "cell_type": "code",
   "execution_count": 12,
   "metadata": {},
   "outputs": [
    {
     "data": {
      "text/html": [
       "<div>\n",
       "<style scoped>\n",
       "    .dataframe tbody tr th:only-of-type {\n",
       "        vertical-align: middle;\n",
       "    }\n",
       "\n",
       "    .dataframe tbody tr th {\n",
       "        vertical-align: top;\n",
       "    }\n",
       "\n",
       "    .dataframe thead th {\n",
       "        text-align: right;\n",
       "    }\n",
       "</style>\n",
       "<table border=\"1\" class=\"dataframe\">\n",
       "  <thead>\n",
       "    <tr style=\"text-align: right;\">\n",
       "      <th></th>\n",
       "      <th>mean</th>\n",
       "      <th>std</th>\n",
       "      <th>median</th>\n",
       "      <th>q1</th>\n",
       "      <th>q3</th>\n",
       "      <th>Тип</th>\n",
       "    </tr>\n",
       "  </thead>\n",
       "  <tbody>\n",
       "    <tr>\n",
       "      <td>0</td>\n",
       "      <td>6.40557</td>\n",
       "      <td>8.817552</td>\n",
       "      <td>3.000</td>\n",
       "      <td>1.0000</td>\n",
       "      <td>8.000</td>\n",
       "      <td>Генеральная совокупность</td>\n",
       "    </tr>\n",
       "    <tr>\n",
       "      <td>1</td>\n",
       "      <td>6.40050</td>\n",
       "      <td>8.469983</td>\n",
       "      <td>3.075</td>\n",
       "      <td>1.0375</td>\n",
       "      <td>7.975</td>\n",
       "      <td>Средневыборочное</td>\n",
       "    </tr>\n",
       "  </tbody>\n",
       "</table>\n",
       "</div>"
      ],
      "text/plain": [
       "      mean       std  median      q1     q3                       Тип\n",
       "0  6.40557  8.817552   3.000  1.0000  8.000  Генеральная совокупность\n",
       "1  6.40050  8.469983   3.075  1.0375  7.975          Средневыборочное"
      ]
     },
     "execution_count": 12,
     "metadata": {},
     "output_type": "execute_result"
    }
   ],
   "source": [
    "# Сравним показатели генеральной сосокупности и средневыборонче показатели\n",
    "df_ind_pos = pd.DataFrame([general_indicators_pos,alternative_indicators_pos_means])\n",
    "df_ind_pos.columns=['mean','std','median','q1','q3']\n",
    "df_ind_pos['Тип'] = ['Генеральная совокупность', 'Средневыборочное']\n",
    "df_ind_pos"
   ]
  },
  {
   "cell_type": "code",
   "execution_count": 13,
   "metadata": {},
   "outputs": [
    {
     "data": {
      "text/plain": [
       "array([0.49771732, 1.37419956, 0.28613808])"
      ]
     },
     "execution_count": 13,
     "metadata": {},
     "output_type": "execute_result"
    }
   ],
   "source": [
    "# средневыборочное стандартное отклонение по средней,std и медиане\n",
    "alternative_indicators_pos.std(axis = 1)[:3]\n"
   ]
  },
  {
   "cell_type": "markdown",
   "metadata": {},
   "source": [
    "Как видно, выборки из генеральной совокупности показывают схожие результаты, разбросы не большие"
   ]
  },
  {
   "cell_type": "markdown",
   "metadata": {},
   "source": [
    "Посмтрим boxplot"
   ]
  },
  {
   "cell_type": "code",
   "execution_count": 14,
   "metadata": {},
   "outputs": [
    {
     "data": {
      "image/png": "[encoded data removed]",
      "text/plain": [
       "<Figure size 432x288 with 1 Axes>"
      ]
     },
     "metadata": {
      "needs_background": "light"
     },
     "output_type": "display_data"
    }
   ],
   "source": [
    "plt.boxplot(df['КолПозиций'])\n",
    "plt.show()"
   ]
  },
  {
   "cell_type": "markdown",
   "metadata": {},
   "source": [
    "ВЫбросов снизу нет, мниимальное количесвто позиций в счете - 1. выбросы сверху 1,5 от межквартильного растояния"
   ]
  },
  {
   "cell_type": "code",
   "execution_count": 15,
   "metadata": {},
   "outputs": [
    {
     "name": "stdout",
     "output_type": "stream",
     "text": [
      "Количество выбросов -  2345\n",
      "минимальное значение -  19\n"
     ]
    }
   ],
   "source": [
    "# Выбросы сверху\n",
    "outliers_pos = [i for i in df['КолПозиций'] if i >(q_3_pos+i_q_pos*1.5)]\n",
    "print ('Количество выбросов - ', len(outliers_pos)  )\n",
    "print ('минимальное значение - ', min(outliers_pos)  )"
   ]
  },
  {
   "cell_type": "markdown",
   "metadata": {},
   "source": [
    "слишком много выбросов, увеличим коэф до 4"
   ]
  },
  {
   "cell_type": "code",
   "execution_count": 16,
   "metadata": {},
   "outputs": [
    {
     "name": "stdout",
     "output_type": "stream",
     "text": [
      "Количество выбросов -  473\n",
      "минимальное значение -  37\n"
     ]
    }
   ],
   "source": [
    "# Выбросы сверху\n",
    "outliers_pos = [i for i in df['КолПозиций'] if i >(q_3_pos+i_q_pos*4)]\n",
    "print ('Количество выбросов - ', len(outliers_pos)  )\n",
    "print ('минимальное значение - ', min(outliers_pos)  )"
   ]
  },
  {
   "cell_type": "code",
   "execution_count": 17,
   "metadata": {},
   "outputs": [],
   "source": [
    "# удалим выбросы\n",
    "df_clean_pos = df[df['КолПозиций']<=37]"
   ]
  },
  {
   "cell_type": "code",
   "execution_count": 18,
   "metadata": {},
   "outputs": [
    {
     "data": {
      "text/html": [
       "<div>\n",
       "<style scoped>\n",
       "    .dataframe tbody tr th:only-of-type {\n",
       "        vertical-align: middle;\n",
       "    }\n",
       "\n",
       "    .dataframe tbody tr th {\n",
       "        vertical-align: top;\n",
       "    }\n",
       "\n",
       "    .dataframe thead th {\n",
       "        text-align: right;\n",
       "    }\n",
       "</style>\n",
       "<table border=\"1\" class=\"dataframe\">\n",
       "  <thead>\n",
       "    <tr style=\"text-align: right;\">\n",
       "      <th></th>\n",
       "      <th>Номер</th>\n",
       "      <th>Дата</th>\n",
       "      <th>Контрагент</th>\n",
       "      <th>СуммаСчета</th>\n",
       "      <th>КолПозиций</th>\n",
       "      <th>Год</th>\n",
       "      <th>Месяц</th>\n",
       "      <th>СтатусОтгрузки</th>\n",
       "    </tr>\n",
       "  </thead>\n",
       "  <tbody>\n",
       "    <tr>\n",
       "      <td>0</td>\n",
       "      <td>0000-000001</td>\n",
       "      <td>2013-01-25 17:24:07</td>\n",
       "      <td>Боргус</td>\n",
       "      <td>26876.00</td>\n",
       "      <td>19</td>\n",
       "      <td>2013</td>\n",
       "      <td>1</td>\n",
       "      <td>Отгружен</td>\n",
       "    </tr>\n",
       "    <tr>\n",
       "      <td>1</td>\n",
       "      <td>0000-000002</td>\n",
       "      <td>2013-01-25 18:26:56</td>\n",
       "      <td>Спецтранс</td>\n",
       "      <td>16520.00</td>\n",
       "      <td>1</td>\n",
       "      <td>2013</td>\n",
       "      <td>1</td>\n",
       "      <td>Отгружен</td>\n",
       "    </tr>\n",
       "    <tr>\n",
       "      <td>2</td>\n",
       "      <td>0000-000003</td>\n",
       "      <td>2013-01-28 14:46:55</td>\n",
       "      <td>Спецтранс</td>\n",
       "      <td>3980.14</td>\n",
       "      <td>1</td>\n",
       "      <td>2013</td>\n",
       "      <td>1</td>\n",
       "      <td>Отгружен</td>\n",
       "    </tr>\n",
       "    <tr>\n",
       "      <td>3</td>\n",
       "      <td>0000-000004</td>\n",
       "      <td>2013-01-28 15:23:55</td>\n",
       "      <td>Спецтранс</td>\n",
       "      <td>6873.50</td>\n",
       "      <td>4</td>\n",
       "      <td>2013</td>\n",
       "      <td>1</td>\n",
       "      <td>Отгружен</td>\n",
       "    </tr>\n",
       "    <tr>\n",
       "      <td>4</td>\n",
       "      <td>0000-000005</td>\n",
       "      <td>2013-01-28 15:35:52</td>\n",
       "      <td>Спецтранс</td>\n",
       "      <td>5040.00</td>\n",
       "      <td>3</td>\n",
       "      <td>2013</td>\n",
       "      <td>1</td>\n",
       "      <td>Отгружен</td>\n",
       "    </tr>\n",
       "    <tr>\n",
       "      <td>...</td>\n",
       "      <td>...</td>\n",
       "      <td>...</td>\n",
       "      <td>...</td>\n",
       "      <td>...</td>\n",
       "      <td>...</td>\n",
       "      <td>...</td>\n",
       "      <td>...</td>\n",
       "      <td>...</td>\n",
       "    </tr>\n",
       "    <tr>\n",
       "      <td>30153</td>\n",
       "      <td>КИ00-003082</td>\n",
       "      <td>2020-08-28 17:15:44</td>\n",
       "      <td>КБ-НС</td>\n",
       "      <td>5900.00</td>\n",
       "      <td>2</td>\n",
       "      <td>2020</td>\n",
       "      <td>8</td>\n",
       "      <td>Не отгружен</td>\n",
       "    </tr>\n",
       "    <tr>\n",
       "      <td>30154</td>\n",
       "      <td>КИ00-003083</td>\n",
       "      <td>2020-08-28 17:35:52</td>\n",
       "      <td>ЦентрСнаб</td>\n",
       "      <td>13151.00</td>\n",
       "      <td>2</td>\n",
       "      <td>2020</td>\n",
       "      <td>8</td>\n",
       "      <td>Не отгружен</td>\n",
       "    </tr>\n",
       "    <tr>\n",
       "      <td>30156</td>\n",
       "      <td>КИ00-003085</td>\n",
       "      <td>2020-08-28 17:59:40</td>\n",
       "      <td>ПСТ-Строй</td>\n",
       "      <td>95948.00</td>\n",
       "      <td>5</td>\n",
       "      <td>2020</td>\n",
       "      <td>8</td>\n",
       "      <td>Не отгружен</td>\n",
       "    </tr>\n",
       "    <tr>\n",
       "      <td>30157</td>\n",
       "      <td>СС00-001452</td>\n",
       "      <td>2020-08-28 18:42:19</td>\n",
       "      <td>СК Дали</td>\n",
       "      <td>1110.00</td>\n",
       "      <td>3</td>\n",
       "      <td>2020</td>\n",
       "      <td>8</td>\n",
       "      <td>Не отгружен</td>\n",
       "    </tr>\n",
       "    <tr>\n",
       "      <td>30159</td>\n",
       "      <td>СС00-001454</td>\n",
       "      <td>2020-08-28 20:03:38</td>\n",
       "      <td>СК Дали</td>\n",
       "      <td>0.00</td>\n",
       "      <td>5</td>\n",
       "      <td>2020</td>\n",
       "      <td>8</td>\n",
       "      <td>Не отгружен</td>\n",
       "    </tr>\n",
       "  </tbody>\n",
       "</table>\n",
       "<p>29726 rows × 8 columns</p>\n",
       "</div>"
      ],
      "text/plain": [
       "             Номер                Дата Контрагент  СуммаСчета  КолПозиций  \\\n",
       "0      0000-000001 2013-01-25 17:24:07     Боргус    26876.00          19   \n",
       "1      0000-000002 2013-01-25 18:26:56  Спецтранс    16520.00           1   \n",
       "2      0000-000003 2013-01-28 14:46:55  Спецтранс     3980.14           1   \n",
       "3      0000-000004 2013-01-28 15:23:55  Спецтранс     6873.50           4   \n",
       "4      0000-000005 2013-01-28 15:35:52  Спецтранс     5040.00           3   \n",
       "...            ...                 ...        ...         ...         ...   \n",
       "30153  КИ00-003082 2020-08-28 17:15:44      КБ-НС     5900.00           2   \n",
       "30154  КИ00-003083 2020-08-28 17:35:52  ЦентрСнаб    13151.00           2   \n",
       "30156  КИ00-003085 2020-08-28 17:59:40  ПСТ-Строй    95948.00           5   \n",
       "30157  СС00-001452 2020-08-28 18:42:19    СК Дали     1110.00           3   \n",
       "30159  СС00-001454 2020-08-28 20:03:38    СК Дали        0.00           5   \n",
       "\n",
       "        Год Месяц СтатусОтгрузки  \n",
       "0      2013     1       Отгружен  \n",
       "1      2013     1       Отгружен  \n",
       "2      2013     1       Отгружен  \n",
       "3      2013     1       Отгружен  \n",
       "4      2013     1       Отгружен  \n",
       "...     ...   ...            ...  \n",
       "30153  2020     8    Не отгружен  \n",
       "30154  2020     8    Не отгружен  \n",
       "30156  2020     8    Не отгружен  \n",
       "30157  2020     8    Не отгружен  \n",
       "30159  2020     8    Не отгружен  \n",
       "\n",
       "[29726 rows x 8 columns]"
      ]
     },
     "execution_count": 18,
     "metadata": {},
     "output_type": "execute_result"
    }
   ],
   "source": [
    "df_clean_pos"
   ]
  },
  {
   "cell_type": "code",
   "execution_count": 19,
   "metadata": {},
   "outputs": [
    {
     "name": "stdout",
     "output_type": "stream",
     "text": [
      "<class 'pandas.core.frame.DataFrame'>\n",
      "Int64Index: 29726 entries, 0 to 30159\n",
      "Data columns (total 8 columns):\n",
      "Номер             29726 non-null object\n",
      "Дата              29726 non-null datetime64[ns]\n",
      "Контрагент        29726 non-null object\n",
      "СуммаСчета        29726 non-null float64\n",
      "КолПозиций        29726 non-null int64\n",
      "Год               29726 non-null category\n",
      "Месяц             29726 non-null category\n",
      "СтатусОтгрузки    29726 non-null category\n",
      "dtypes: category(3), datetime64[ns](1), float64(1), int64(1), object(2)\n",
      "memory usage: 1.4+ MB\n"
     ]
    }
   ],
   "source": [
    "df_clean_pos.info()"
   ]
  },
  {
   "cell_type": "code",
   "execution_count": 20,
   "metadata": {},
   "outputs": [
    {
     "data": {
      "text/html": [
       "<div>\n",
       "<style scoped>\n",
       "    .dataframe tbody tr th:only-of-type {\n",
       "        vertical-align: middle;\n",
       "    }\n",
       "\n",
       "    .dataframe tbody tr th {\n",
       "        vertical-align: top;\n",
       "    }\n",
       "\n",
       "    .dataframe thead th {\n",
       "        text-align: right;\n",
       "    }\n",
       "</style>\n",
       "<table border=\"1\" class=\"dataframe\">\n",
       "  <thead>\n",
       "    <tr style=\"text-align: right;\">\n",
       "      <th></th>\n",
       "      <th>СуммаСчета</th>\n",
       "      <th>КолПозиций</th>\n",
       "    </tr>\n",
       "  </thead>\n",
       "  <tbody>\n",
       "    <tr>\n",
       "      <td>count</td>\n",
       "      <td>2.972600e+04</td>\n",
       "      <td>29726.000000</td>\n",
       "    </tr>\n",
       "    <tr>\n",
       "      <td>mean</td>\n",
       "      <td>2.637446e+04</td>\n",
       "      <td>5.733499</td>\n",
       "    </tr>\n",
       "    <tr>\n",
       "      <td>std</td>\n",
       "      <td>5.976617e+04</td>\n",
       "      <td>6.596701</td>\n",
       "    </tr>\n",
       "    <tr>\n",
       "      <td>min</td>\n",
       "      <td>0.000000e+00</td>\n",
       "      <td>1.000000</td>\n",
       "    </tr>\n",
       "    <tr>\n",
       "      <td>25%</td>\n",
       "      <td>3.950325e+03</td>\n",
       "      <td>1.000000</td>\n",
       "    </tr>\n",
       "    <tr>\n",
       "      <td>50%</td>\n",
       "      <td>1.094850e+04</td>\n",
       "      <td>3.000000</td>\n",
       "    </tr>\n",
       "    <tr>\n",
       "      <td>75%</td>\n",
       "      <td>2.863820e+04</td>\n",
       "      <td>8.000000</td>\n",
       "    </tr>\n",
       "    <tr>\n",
       "      <td>max</td>\n",
       "      <td>3.751000e+06</td>\n",
       "      <td>37.000000</td>\n",
       "    </tr>\n",
       "  </tbody>\n",
       "</table>\n",
       "</div>"
      ],
      "text/plain": [
       "         СуммаСчета    КолПозиций\n",
       "count  2.972600e+04  29726.000000\n",
       "mean   2.637446e+04      5.733499\n",
       "std    5.976617e+04      6.596701\n",
       "min    0.000000e+00      1.000000\n",
       "25%    3.950325e+03      1.000000\n",
       "50%    1.094850e+04      3.000000\n",
       "75%    2.863820e+04      8.000000\n",
       "max    3.751000e+06     37.000000"
      ]
     },
     "execution_count": 20,
     "metadata": {},
     "output_type": "execute_result"
    }
   ],
   "source": [
    "df_clean_pos.describe()"
   ]
  },
  {
   "cell_type": "markdown",
   "metadata": {},
   "source": [
    "Как выидно при небольшом уменьшении данных, std уменьшилось почти на четверть"
   ]
  },
  {
   "cell_type": "code",
   "execution_count": 21,
   "metadata": {},
   "outputs": [
    {
     "data": {
      "image/png": "[encoded data removed]",
      "text/plain": [
       "<Figure size 432x288 with 1 Axes>"
      ]
     },
     "metadata": {
      "needs_background": "light"
     },
     "output_type": "display_data"
    }
   ],
   "source": [
    "plt.hist(df_clean_pos['КолПозиций'],bins=50)\n",
    "plt.show()"
   ]
  },
  {
   "cell_type": "code",
   "execution_count": 22,
   "metadata": {},
   "outputs": [
    {
     "data": {
      "image/png": "[encoded data removed]",
      "text/plain": [
       "<Figure size 432x288 with 1 Axes>"
      ]
     },
     "metadata": {
      "needs_background": "light"
     },
     "output_type": "display_data"
    }
   ],
   "source": [
    "plt.boxplot(df_clean_pos['КолПозиций'])\n",
    "plt.show()"
   ]
  },
  {
   "cell_type": "markdown",
   "metadata": {},
   "source": [
    "Теперь графическое представление данных более четко смотриться"
   ]
  },
  {
   "cell_type": "markdown",
   "metadata": {},
   "source": [
    "Рассмотрим , распредлние среднего количества позиций в счете по клиентам. Возмем  сто самых важных клиентов (по объему выставленных позиций). с маскимальным количеством выставлнных позиций. Отсортируем ао убыванию количества позиций в счете"
   ]
  },
  {
   "cell_type": "code",
   "execution_count": 23,
   "metadata": {},
   "outputs": [
    {
     "data": {
      "text/html": [
       "<div>\n",
       "<style scoped>\n",
       "    .dataframe tbody tr th:only-of-type {\n",
       "        vertical-align: middle;\n",
       "    }\n",
       "\n",
       "    .dataframe tbody tr th {\n",
       "        vertical-align: top;\n",
       "    }\n",
       "\n",
       "    .dataframe thead tr th {\n",
       "        text-align: left;\n",
       "    }\n",
       "\n",
       "    .dataframe thead tr:last-of-type th {\n",
       "        text-align: right;\n",
       "    }\n",
       "</style>\n",
       "<table border=\"1\" class=\"dataframe\">\n",
       "  <thead>\n",
       "    <tr>\n",
       "      <th></th>\n",
       "      <th colspan=\"4\" halign=\"left\">КолПозиций</th>\n",
       "    </tr>\n",
       "    <tr>\n",
       "      <th></th>\n",
       "      <th>sum</th>\n",
       "      <th>mean</th>\n",
       "      <th>std</th>\n",
       "      <th>median</th>\n",
       "    </tr>\n",
       "    <tr>\n",
       "      <th>Контрагент</th>\n",
       "      <th></th>\n",
       "      <th></th>\n",
       "      <th></th>\n",
       "      <th></th>\n",
       "    </tr>\n",
       "  </thead>\n",
       "  <tbody>\n",
       "    <tr>\n",
       "      <td>АСК ООО</td>\n",
       "      <td>212</td>\n",
       "      <td>17.666667</td>\n",
       "      <td>13.068584</td>\n",
       "      <td>14.5</td>\n",
       "    </tr>\n",
       "    <tr>\n",
       "      <td>ИНЖСТРОЙ СПБ ООО</td>\n",
       "      <td>326</td>\n",
       "      <td>13.040000</td>\n",
       "      <td>10.639862</td>\n",
       "      <td>9.0</td>\n",
       "    </tr>\n",
       "    <tr>\n",
       "      <td>Ростовский Малоэтажный Квартал</td>\n",
       "      <td>101</td>\n",
       "      <td>11.222222</td>\n",
       "      <td>7.361688</td>\n",
       "      <td>11.0</td>\n",
       "    </tr>\n",
       "    <tr>\n",
       "      <td>СК \"ТИТАН\"</td>\n",
       "      <td>1989</td>\n",
       "      <td>11.174157</td>\n",
       "      <td>10.345337</td>\n",
       "      <td>8.0</td>\n",
       "    </tr>\n",
       "    <tr>\n",
       "      <td>СК-СТАНДАРТ ООО</td>\n",
       "      <td>232</td>\n",
       "      <td>11.047619</td>\n",
       "      <td>10.007378</td>\n",
       "      <td>10.0</td>\n",
       "    </tr>\n",
       "    <tr>\n",
       "      <td>...</td>\n",
       "      <td>...</td>\n",
       "      <td>...</td>\n",
       "      <td>...</td>\n",
       "      <td>...</td>\n",
       "    </tr>\n",
       "    <tr>\n",
       "      <td>Луч</td>\n",
       "      <td>101</td>\n",
       "      <td>2.244444</td>\n",
       "      <td>1.568954</td>\n",
       "      <td>2.0</td>\n",
       "    </tr>\n",
       "    <tr>\n",
       "      <td>Арсенал Групп</td>\n",
       "      <td>591</td>\n",
       "      <td>2.073684</td>\n",
       "      <td>2.127497</td>\n",
       "      <td>1.0</td>\n",
       "    </tr>\n",
       "    <tr>\n",
       "      <td>Латрэс</td>\n",
       "      <td>178</td>\n",
       "      <td>1.977778</td>\n",
       "      <td>1.381887</td>\n",
       "      <td>1.5</td>\n",
       "    </tr>\n",
       "    <tr>\n",
       "      <td>АЛЬБАТРОС ООО</td>\n",
       "      <td>140</td>\n",
       "      <td>1.917808</td>\n",
       "      <td>2.665382</td>\n",
       "      <td>1.0</td>\n",
       "    </tr>\n",
       "    <tr>\n",
       "      <td>Арсенал-10</td>\n",
       "      <td>295</td>\n",
       "      <td>1.745562</td>\n",
       "      <td>1.569917</td>\n",
       "      <td>1.0</td>\n",
       "    </tr>\n",
       "  </tbody>\n",
       "</table>\n",
       "<p>100 rows × 4 columns</p>\n",
       "</div>"
      ],
      "text/plain": [
       "                               КолПозиций                             \n",
       "                                      sum       mean        std median\n",
       "Контрагент                                                            \n",
       "АСК ООО                               212  17.666667  13.068584   14.5\n",
       "ИНЖСТРОЙ СПБ ООО                      326  13.040000  10.639862    9.0\n",
       "Ростовский Малоэтажный Квартал        101  11.222222   7.361688   11.0\n",
       "СК \"ТИТАН\"                           1989  11.174157  10.345337    8.0\n",
       "СК-СТАНДАРТ ООО                       232  11.047619  10.007378   10.0\n",
       "...                                   ...        ...        ...    ...\n",
       "Луч                                   101   2.244444   1.568954    2.0\n",
       "Арсенал Групп                         591   2.073684   2.127497    1.0\n",
       "Латрэс                                178   1.977778   1.381887    1.5\n",
       "АЛЬБАТРОС ООО                         140   1.917808   2.665382    1.0\n",
       "Арсенал-10                            295   1.745562   1.569917    1.0\n",
       "\n",
       "[100 rows x 4 columns]"
      ]
     },
     "execution_count": 23,
     "metadata": {},
     "output_type": "execute_result"
    }
   ],
   "source": [
    "customers_pos= df_clean_pos.groupby(['Контрагент']).agg({'КолПозиций':['sum','mean','std','median']})\n",
    "customers_pos.sort_values(by=[('КолПозиций','sum')],ascending=False, inplace=True)\n",
    "customers_pos =customers_pos.head(100).sort_values(by=[('КолПозиций','mean')],ascending=False)\n",
    "customers_pos"
   ]
  },
  {
   "cell_type": "markdown",
   "metadata": {},
   "source": [
    "Как видно, стандартное отклоннение около среднего значения, что говорит о большом разбросе. Таким образом трудно предсказать\n",
    "сколкьо будет позиций в каждой конретной заявке."
   ]
  },
  {
   "cell_type": "markdown",
   "metadata": {},
   "source": [
    "Проведем однофакторный диспресионный анализ и выясним, имеет ли стастистически значимое влияние контрагент на количесвто позиций в счете с уровнем значимости 0,95"
   ]
  },
  {
   "cell_type": "code",
   "execution_count": 24,
   "metadata": {},
   "outputs": [],
   "source": [
    "# Контрагенты, которые попали в наш список\n",
    "clients_filtеr = customers_pos.index\n",
    "# датафрейм только по выбранным клиентам \n",
    "df_clients_filtеr= df_clean_pos[df_clean_pos['Контрагент'].isin(clients_filtеr)]"
   ]
  },
  {
   "cell_type": "code",
   "execution_count": 25,
   "metadata": {},
   "outputs": [
    {
     "data": {
      "text/plain": [
       "(99, 27846, 27946, 5.864452873398697)"
      ]
     },
     "execution_count": 25,
     "metadata": {},
     "output_type": "execute_result"
    }
   ],
   "source": [
    "alpha = 0.05\n",
    "k1= len(clients_filtеr)-1\n",
    "y_mean = df_clients_filtеr['КолПозиций'].mean()\n",
    "n = len(df_clients_filtеr)\n",
    "k2 = n-len(clients_filtеr)\n",
    "(k1,k2,n,y_mean)"
   ]
  },
  {
   "cell_type": "code",
   "execution_count": 26,
   "metadata": {},
   "outputs": [
    {
     "data": {
      "text/plain": [
       "(134248.65879922037, 1112063.8886852146)"
      ]
     },
     "execution_count": 26,
     "metadata": {},
     "output_type": "execute_result"
    }
   ],
   "source": [
    "# отклонения дисперсии между клиентами\n",
    "s2b = 0\n",
    "#  отклонения внутри клиента \n",
    "s2w = 0\n",
    "# Посчитаем их\n",
    "for i in clients_filtеr:\n",
    "    m = df_clients_filtеr[df_clients_filtеr['Контрагент']==i]['КолПозиций']\n",
    "    s2b+=((m.mean()-y_mean)**2)*len(m)\n",
    "    s2w+=((m-m.mean())**2).sum()\n",
    "(s2b,s2w)    "
   ]
  },
  {
   "cell_type": "code",
   "execution_count": 27,
   "metadata": {},
   "outputs": [
    {
     "data": {
      "text/plain": [
       "(1356.0470585779835, 39.93621664458861)"
      ]
     },
     "execution_count": 27,
     "metadata": {},
     "output_type": "execute_result"
    }
   ],
   "source": [
    "# оценки дисперсий:\n",
    "sigma2b = s2b/k1\n",
    "sigma2w = s2w/k2\n",
    "\n",
    "(sigma2b ,sigma2w )"
   ]
  },
  {
   "cell_type": "code",
   "execution_count": 28,
   "metadata": {},
   "outputs": [
    {
     "data": {
      "text/plain": [
       "33.95532107225107"
      ]
     },
     "execution_count": 28,
     "metadata": {},
     "output_type": "execute_result"
    }
   ],
   "source": [
    "# значение статистики 𝐹\n",
    "F = sigma2b / sigma2w\n",
    "F"
   ]
  },
  {
   "cell_type": "code",
   "execution_count": 29,
   "metadata": {},
   "outputs": [
    {
     "data": {
      "text/plain": [
       "1.2452850324076419"
      ]
     },
     "execution_count": 29,
     "metadata": {},
     "output_type": "execute_result"
    }
   ],
   "source": [
    "# распределение Фишера с параметрами k_1 и k_2 \n",
    "F_crit = stats.f.ppf(1 - alpha, k1, k2)\n",
    "F_crit"
   ]
  },
  {
   "cell_type": "markdown",
   "metadata": {},
   "source": [
    "Видим, что \n",
    "F>Fcrit\n",
    ", поэтому заключаем, что отличие количества поизиций в счете, действительно является статистически значимым в замвсимости от контрагента.\n",
    "\n"
   ]
  },
  {
   "cell_type": "markdown",
   "metadata": {},
   "source": [
    "ТЕПЕРЬ ПРОАНАЛИЗИРУЕМ ПОКАЗАТЕЛЬ СУММА СЧЕТА"
   ]
  },
  {
   "cell_type": "code",
   "execution_count": 30,
   "metadata": {},
   "outputs": [
    {
     "name": "stdout",
     "output_type": "stream",
     "text": [
      "Среднее значение - 29045.61251027851\n",
      "Стандартное отклонение - 70030.0365007433\n",
      "дисперсия - 4904206012.295439\n",
      "минимальное значение - 0.0\n",
      "максимальное значение - 3751000.0\n",
      "медиана - 11237.3\n",
      "первый квартиль - 4005.45\n",
      "третий квартиль - 8.0\n",
      "интерквартильное расстояние - 25917.1325\n"
     ]
    }
   ],
   "source": [
    "print('Среднее значение -', df['СуммаСчета'].mean())\n",
    "print('Стандартное отклонение -', df['СуммаСчета'].std())\n",
    "print('дисперсия -', df['СуммаСчета'].var())\n",
    "print('минимальное значение -', df['СуммаСчета'].min())\n",
    "print('максимальное значение -', df['СуммаСчета'].max())\n",
    "print('медиана -', df['СуммаСчета'].median())\n",
    "print('первый квартиль -', df['СуммаСчета'].quantile(0.25))\n",
    "q_1_amount = df['СуммаСчета'].quantile(0.25)\n",
    "q_3_ammount = df['СуммаСчета'].quantile(0.75)\n",
    "print('третий квартиль -', q_3_pos)\n",
    "i_q_ammount = df['СуммаСчета'].quantile(0.75)-df['СуммаСчета'].quantile(0.25)\n",
    "print('интерквартильное расстояние -', i_q_ammount)\n",
    "general_indicators_ammount = np.array([df['СуммаСчета'].mean(),df['СуммаСчета'].std(),\\\n",
    "                                   df['СуммаСчета'].median(),df['СуммаСчета'].quantile(0.25),df['СуммаСчета'].quantile(0.75)])\n"
   ]
  },
  {
   "cell_type": "code",
   "execution_count": 31,
   "metadata": {},
   "outputs": [
    {
     "data": {
      "image/png": "[encoded data removed]",
      "text/plain": [
       "<Figure size 432x288 with 1 Axes>"
      ]
     },
     "metadata": {
      "needs_background": "light"
     },
     "output_type": "display_data"
    }
   ],
   "source": [
    "# Гистограмма\n",
    "plt.hist(df['СуммаСчета'],bins=100)\n",
    "plt.show()"
   ]
  },
  {
   "cell_type": "markdown",
   "metadata": {},
   "source": [
    "Возмем 20 случаныйх выборок по 300 элементов и проанализирем, средние показатели по выборкам"
   ]
  },
  {
   "cell_type": "code",
   "execution_count": 32,
   "metadata": {},
   "outputs": [],
   "source": [
    "alternative = np.array([np.random.choice(df['СуммаСчета'],300) for i in range(20)])"
   ]
  },
  {
   "cell_type": "code",
   "execution_count": 33,
   "metadata": {},
   "outputs": [
    {
     "data": {
      "text/plain": [
       "array([28218.53347833, 63533.81115112, 11304.98025   ,  3873.807125  ,\n",
       "       28621.83675   ])"
      ]
     },
     "execution_count": 33,
     "metadata": {},
     "output_type": "execute_result"
    }
   ],
   "source": [
    "# Расчитаем основные статистики по каждой полученной выборке\n",
    "alternative_indicators_amount = np.array([alternative.mean(axis=1),alternative.std(axis=1),\\\n",
    "                                   np.median(alternative,axis=1),np.quantile(alternative,0.25,axis = 1),\\\n",
    "                                   np.quantile(alternative,0.75,axis = 1)])\n",
    "# Возмем средние статистики по по каждой выборке\n",
    "alternative_indicators_amount_means = alternative_indicators_amount.mean(axis = 1)\n",
    "alternative_indicators_amount_means"
   ]
  },
  {
   "cell_type": "code",
   "execution_count": 34,
   "metadata": {},
   "outputs": [
    {
     "name": "stdout",
     "output_type": "stream",
     "text": [
      "Cредневыборочные показатели:\n",
      "\n",
      "Среднее значение - 28218.53347833333\n",
      "Стандартное отклонение - 63533.81115112058\n",
      "медиана - 11304.98025\n",
      "первый квартиль - 3873.8071250000003\n",
      "четвертый квартиль - 28621.83675\n"
     ]
    }
   ],
   "source": [
    "# средневыборочные показатели\n",
    "print('Cредневыборочные показатели:'+'\\n')\n",
    "print('Среднее значение -', alternative_indicators_amount_means[0])\n",
    "print('Стандартное отклонение -', alternative_indicators_amount_means[1])\n",
    "print('медиана -', alternative_indicators_amount_means[2])\n",
    "print('первый квартиль -', alternative_indicators_amount_means[3])\n",
    "print('четвертый квартиль -', alternative_indicators_amount_means[4])"
   ]
  },
  {
   "cell_type": "code",
   "execution_count": 35,
   "metadata": {},
   "outputs": [
    {
     "data": {
      "text/html": [
       "<div>\n",
       "<style scoped>\n",
       "    .dataframe tbody tr th:only-of-type {\n",
       "        vertical-align: middle;\n",
       "    }\n",
       "\n",
       "    .dataframe tbody tr th {\n",
       "        vertical-align: top;\n",
       "    }\n",
       "\n",
       "    .dataframe thead th {\n",
       "        text-align: right;\n",
       "    }\n",
       "</style>\n",
       "<table border=\"1\" class=\"dataframe\">\n",
       "  <thead>\n",
       "    <tr style=\"text-align: right;\">\n",
       "      <th></th>\n",
       "      <th>mean</th>\n",
       "      <th>std</th>\n",
       "      <th>median</th>\n",
       "      <th>q1</th>\n",
       "      <th>q3</th>\n",
       "      <th>Тип</th>\n",
       "    </tr>\n",
       "  </thead>\n",
       "  <tbody>\n",
       "    <tr>\n",
       "      <td>0</td>\n",
       "      <td>29045.612510</td>\n",
       "      <td>70030.036501</td>\n",
       "      <td>11237.30000</td>\n",
       "      <td>4005.450000</td>\n",
       "      <td>29922.58250</td>\n",
       "      <td>Генеральная совокупность</td>\n",
       "    </tr>\n",
       "    <tr>\n",
       "      <td>1</td>\n",
       "      <td>28218.533478</td>\n",
       "      <td>63533.811151</td>\n",
       "      <td>11304.98025</td>\n",
       "      <td>3873.807125</td>\n",
       "      <td>28621.83675</td>\n",
       "      <td>Средневыборочное</td>\n",
       "    </tr>\n",
       "  </tbody>\n",
       "</table>\n",
       "</div>"
      ],
      "text/plain": [
       "           mean           std       median           q1           q3  \\\n",
       "0  29045.612510  70030.036501  11237.30000  4005.450000  29922.58250   \n",
       "1  28218.533478  63533.811151  11304.98025  3873.807125  28621.83675   \n",
       "\n",
       "                        Тип  \n",
       "0  Генеральная совокупность  \n",
       "1          Средневыборочное  "
      ]
     },
     "execution_count": 35,
     "metadata": {},
     "output_type": "execute_result"
    }
   ],
   "source": [
    "# Сравним показатели генеральной сосокупности и средневыборончные показатели\n",
    "df_ind_am = pd.DataFrame([general_indicators_ammount,alternative_indicators_amount_means])\n",
    "df_ind_am.columns=['mean','std','median','q1','q3']\n",
    "df_ind_am['Тип'] = ['Генеральная совокупность', 'Средневыборочное']\n",
    "df_ind_am"
   ]
  },
  {
   "cell_type": "code",
   "execution_count": 36,
   "metadata": {},
   "outputs": [
    {
     "data": {
      "text/plain": [
       "array([ 4424.9455709 , 40317.55093003,  1138.11420384])"
      ]
     },
     "execution_count": 36,
     "metadata": {},
     "output_type": "execute_result"
    }
   ],
   "source": [
    "# средневыборочное стандартное отклонение по средней,std и медиане\n",
    "alternative_indicators_amount.std(axis = 1)[:3]\n"
   ]
  },
  {
   "cell_type": "markdown",
   "metadata": {},
   "source": [
    "\n",
    "Посмтрим boxplot"
   ]
  },
  {
   "cell_type": "code",
   "execution_count": 37,
   "metadata": {},
   "outputs": [
    {
     "data": {
      "image/png": "[encoded data removed]",
      "text/plain": [
       "<Figure size 432x288 with 1 Axes>"
      ]
     },
     "metadata": {
      "needs_background": "light"
     },
     "output_type": "display_data"
    }
   ],
   "source": [
    "plt.boxplot(df['СуммаСчета'])\n",
    "plt.show()"
   ]
  },
  {
   "cell_type": "code",
   "execution_count": 38,
   "metadata": {},
   "outputs": [
    {
     "name": "stdout",
     "output_type": "stream",
     "text": [
      "Количество выбросов -  2896\n",
      "минимальное значение -  68889.0\n"
     ]
    }
   ],
   "source": [
    "# Выбросы сверху\n",
    "outliers_amount = [i for i in df['СуммаСчета'] if i >(q_3_ammount+i_q_ammount*1.5)]\n",
    "print ('Количество выбросов - ', len(outliers_amount)  )\n",
    "print ('минимальное значение - ', min(outliers_amount)  )"
   ]
  },
  {
   "cell_type": "markdown",
   "metadata": {},
   "source": [
    "1,5 - слишком мало, будем использовать - 10"
   ]
  },
  {
   "cell_type": "code",
   "execution_count": 39,
   "metadata": {},
   "outputs": [
    {
     "name": "stdout",
     "output_type": "stream",
     "text": [
      "Количество выбросов -  248\n",
      "минимальное значение -  289390.0\n"
     ]
    }
   ],
   "source": [
    "# Выбросы сверху\n",
    "outliers_amount = [i for i in df['СуммаСчета'] if i >(q_3_ammount+i_q_ammount*10)]\n",
    "print ('Количество выбросов - ', len(outliers_amount)  )\n",
    "print ('минимальное значение - ', min(outliers_amount)  )"
   ]
  },
  {
   "cell_type": "code",
   "execution_count": 40,
   "metadata": {},
   "outputs": [],
   "source": [
    "# удалим выбросы сверху\n",
    "df_clean_amount = df[df['СуммаСчета']<=289390]"
   ]
  },
  {
   "cell_type": "code",
   "execution_count": 41,
   "metadata": {},
   "outputs": [
    {
     "name": "stdout",
     "output_type": "stream",
     "text": [
      "<class 'pandas.core.frame.DataFrame'>\n",
      "Int64Index: 29913 entries, 0 to 30159\n",
      "Data columns (total 8 columns):\n",
      "Номер             29913 non-null object\n",
      "Дата              29913 non-null datetime64[ns]\n",
      "Контрагент        29913 non-null object\n",
      "СуммаСчета        29913 non-null float64\n",
      "КолПозиций        29913 non-null int64\n",
      "Год               29913 non-null category\n",
      "Месяц             29913 non-null category\n",
      "СтатусОтгрузки    29913 non-null category\n",
      "dtypes: category(3), datetime64[ns](1), float64(1), int64(1), object(2)\n",
      "memory usage: 1.5+ MB\n"
     ]
    }
   ],
   "source": [
    "df_clean_amount.info()"
   ]
  },
  {
   "cell_type": "code",
   "execution_count": 42,
   "metadata": {},
   "outputs": [
    {
     "name": "stdout",
     "output_type": "stream",
     "text": [
      "Количество выбросов -  56\n",
      "максимальное значение -  117.0\n"
     ]
    }
   ],
   "source": [
    "# посмотрим выбросы снизу\n",
    "outliers_amount = [i for i in df['СуммаСчета'] if i <(q_1_amount-i_q_ammount*0.15)]\n",
    "print ('Количество выбросов - ', len(outliers_amount)  )\n",
    "print ('максимальное значение - ', max(outliers_amount)  )"
   ]
  },
  {
   "cell_type": "code",
   "execution_count": 43,
   "metadata": {},
   "outputs": [],
   "source": [
    "# удалим выбросы снизу\n",
    "df_clean_amount = df_clean_amount[df_clean_amount['СуммаСчета']>=117]"
   ]
  },
  {
   "cell_type": "code",
   "execution_count": 44,
   "metadata": {},
   "outputs": [
    {
     "name": "stdout",
     "output_type": "stream",
     "text": [
      "<class 'pandas.core.frame.DataFrame'>\n",
      "Int64Index: 29858 entries, 0 to 30158\n",
      "Data columns (total 8 columns):\n",
      "Номер             29858 non-null object\n",
      "Дата              29858 non-null datetime64[ns]\n",
      "Контрагент        29858 non-null object\n",
      "СуммаСчета        29858 non-null float64\n",
      "КолПозиций        29858 non-null int64\n",
      "Год               29858 non-null category\n",
      "Месяц             29858 non-null category\n",
      "СтатусОтгрузки    29858 non-null category\n",
      "dtypes: category(3), datetime64[ns](1), float64(1), int64(1), object(2)\n",
      "memory usage: 1.5+ MB\n"
     ]
    }
   ],
   "source": [
    "df_clean_amount.info()"
   ]
  },
  {
   "cell_type": "code",
   "execution_count": 45,
   "metadata": {},
   "outputs": [
    {
     "data": {
      "text/html": [
       "<div>\n",
       "<style scoped>\n",
       "    .dataframe tbody tr th:only-of-type {\n",
       "        vertical-align: middle;\n",
       "    }\n",
       "\n",
       "    .dataframe tbody tr th {\n",
       "        vertical-align: top;\n",
       "    }\n",
       "\n",
       "    .dataframe thead th {\n",
       "        text-align: right;\n",
       "    }\n",
       "</style>\n",
       "<table border=\"1\" class=\"dataframe\">\n",
       "  <thead>\n",
       "    <tr style=\"text-align: right;\">\n",
       "      <th></th>\n",
       "      <th>СуммаСчета</th>\n",
       "      <th>КолПозиций</th>\n",
       "    </tr>\n",
       "  </thead>\n",
       "  <tbody>\n",
       "    <tr>\n",
       "      <td>count</td>\n",
       "      <td>29858.000000</td>\n",
       "      <td>29858.000000</td>\n",
       "    </tr>\n",
       "    <tr>\n",
       "      <td>mean</td>\n",
       "      <td>24783.715615</td>\n",
       "      <td>6.238228</td>\n",
       "    </tr>\n",
       "    <tr>\n",
       "      <td>std</td>\n",
       "      <td>36843.425587</td>\n",
       "      <td>8.220213</td>\n",
       "    </tr>\n",
       "    <tr>\n",
       "      <td>min</td>\n",
       "      <td>117.000000</td>\n",
       "      <td>1.000000</td>\n",
       "    </tr>\n",
       "    <tr>\n",
       "      <td>25%</td>\n",
       "      <td>3992.835000</td>\n",
       "      <td>1.000000</td>\n",
       "    </tr>\n",
       "    <tr>\n",
       "      <td>50%</td>\n",
       "      <td>11099.500000</td>\n",
       "      <td>3.000000</td>\n",
       "    </tr>\n",
       "    <tr>\n",
       "      <td>75%</td>\n",
       "      <td>29210.825000</td>\n",
       "      <td>8.000000</td>\n",
       "    </tr>\n",
       "    <tr>\n",
       "      <td>max</td>\n",
       "      <td>289390.000000</td>\n",
       "      <td>102.000000</td>\n",
       "    </tr>\n",
       "  </tbody>\n",
       "</table>\n",
       "</div>"
      ],
      "text/plain": [
       "          СуммаСчета    КолПозиций\n",
       "count   29858.000000  29858.000000\n",
       "mean    24783.715615      6.238228\n",
       "std     36843.425587      8.220213\n",
       "min       117.000000      1.000000\n",
       "25%      3992.835000      1.000000\n",
       "50%     11099.500000      3.000000\n",
       "75%     29210.825000      8.000000\n",
       "max    289390.000000    102.000000"
      ]
     },
     "execution_count": 45,
     "metadata": {},
     "output_type": "execute_result"
    }
   ],
   "source": [
    "df_clean_amount.describe()"
   ]
  },
  {
   "cell_type": "code",
   "execution_count": 46,
   "metadata": {},
   "outputs": [
    {
     "data": {
      "image/png": "[encoded data removed]",
      "text/plain": [
       "<Figure size 432x288 with 1 Axes>"
      ]
     },
     "metadata": {
      "needs_background": "light"
     },
     "output_type": "display_data"
    }
   ],
   "source": [
    "# Гистограмма\n",
    "plt.hist(df_clean_amount['СуммаСчета'],bins=100)\n",
    "plt.show()"
   ]
  },
  {
   "cell_type": "code",
   "execution_count": 47,
   "metadata": {},
   "outputs": [
    {
     "data": {
      "image/png": "[encoded data removed]",
      "text/plain": [
       "<Figure size 432x288 with 1 Axes>"
      ]
     },
     "metadata": {
      "needs_background": "light"
     },
     "output_type": "display_data"
    }
   ],
   "source": [
    "plt.boxplot(df_clean_amount['СуммаСчета'])\n",
    "plt.show()"
   ]
  },
  {
   "cell_type": "markdown",
   "metadata": {},
   "source": [
    "Рассмотрим , распредлние среднего количества позиций в счете по клиентам. Возмем сто самых важных клиентов (по объему выставленных позиций). с маскимальным количеством выставлнных позиций. Отсортируем по убыванию количества позиций в счете"
   ]
  },
  {
   "cell_type": "code",
   "execution_count": 48,
   "metadata": {},
   "outputs": [
    {
     "data": {
      "text/html": [
       "<div>\n",
       "<style scoped>\n",
       "    .dataframe tbody tr th:only-of-type {\n",
       "        vertical-align: middle;\n",
       "    }\n",
       "\n",
       "    .dataframe tbody tr th {\n",
       "        vertical-align: top;\n",
       "    }\n",
       "\n",
       "    .dataframe thead tr th {\n",
       "        text-align: left;\n",
       "    }\n",
       "\n",
       "    .dataframe thead tr:last-of-type th {\n",
       "        text-align: right;\n",
       "    }\n",
       "</style>\n",
       "<table border=\"1\" class=\"dataframe\">\n",
       "  <thead>\n",
       "    <tr>\n",
       "      <th></th>\n",
       "      <th colspan=\"4\" halign=\"left\">СуммаСчета</th>\n",
       "    </tr>\n",
       "    <tr>\n",
       "      <th></th>\n",
       "      <th>sum</th>\n",
       "      <th>mean</th>\n",
       "      <th>std</th>\n",
       "      <th>median</th>\n",
       "    </tr>\n",
       "    <tr>\n",
       "      <th>Контрагент</th>\n",
       "      <th></th>\n",
       "      <th></th>\n",
       "      <th></th>\n",
       "      <th></th>\n",
       "    </tr>\n",
       "  </thead>\n",
       "  <tbody>\n",
       "    <tr>\n",
       "      <td>ФГБОУ ВПО «СПбГПУ»</td>\n",
       "      <td>258720.00</td>\n",
       "      <td>258720.000000</td>\n",
       "      <td>NaN</td>\n",
       "      <td>258720.00</td>\n",
       "    </tr>\n",
       "    <tr>\n",
       "      <td>СК ШЭН ХАО</td>\n",
       "      <td>200039.00</td>\n",
       "      <td>200039.000000</td>\n",
       "      <td>NaN</td>\n",
       "      <td>200039.00</td>\n",
       "    </tr>\n",
       "    <tr>\n",
       "      <td>Сбербанк России</td>\n",
       "      <td>199200.00</td>\n",
       "      <td>199200.000000</td>\n",
       "      <td>NaN</td>\n",
       "      <td>199200.00</td>\n",
       "    </tr>\n",
       "    <tr>\n",
       "      <td>КАППА</td>\n",
       "      <td>192678.85</td>\n",
       "      <td>192678.850000</td>\n",
       "      <td>NaN</td>\n",
       "      <td>192678.85</td>\n",
       "    </tr>\n",
       "    <tr>\n",
       "      <td>ГАЗПРОМСТРОЙИНВЕСТ</td>\n",
       "      <td>191585.00</td>\n",
       "      <td>191585.000000</td>\n",
       "      <td>NaN</td>\n",
       "      <td>191585.00</td>\n",
       "    </tr>\n",
       "    <tr>\n",
       "      <td>...</td>\n",
       "      <td>...</td>\n",
       "      <td>...</td>\n",
       "      <td>...</td>\n",
       "      <td>...</td>\n",
       "    </tr>\n",
       "    <tr>\n",
       "      <td>Латрэс</td>\n",
       "      <td>689234.41</td>\n",
       "      <td>7658.160111</td>\n",
       "      <td>12892.351534</td>\n",
       "      <td>3674.50</td>\n",
       "    </tr>\n",
       "    <tr>\n",
       "      <td>Коска декор</td>\n",
       "      <td>243985.41</td>\n",
       "      <td>7624.544063</td>\n",
       "      <td>12257.622721</td>\n",
       "      <td>2526.50</td>\n",
       "    </tr>\n",
       "    <tr>\n",
       "      <td>Гефест</td>\n",
       "      <td>299920.80</td>\n",
       "      <td>6120.832653</td>\n",
       "      <td>6785.240668</td>\n",
       "      <td>3800.00</td>\n",
       "    </tr>\n",
       "    <tr>\n",
       "      <td>ПРОЕМ</td>\n",
       "      <td>1049905.68</td>\n",
       "      <td>5171.949163</td>\n",
       "      <td>3893.977937</td>\n",
       "      <td>4290.00</td>\n",
       "    </tr>\n",
       "    <tr>\n",
       "      <td>АЛЬБАТРОС ООО</td>\n",
       "      <td>255813.08</td>\n",
       "      <td>3504.288767</td>\n",
       "      <td>4180.078605</td>\n",
       "      <td>1500.00</td>\n",
       "    </tr>\n",
       "  </tbody>\n",
       "</table>\n",
       "<p>150 rows × 4 columns</p>\n",
       "</div>"
      ],
      "text/plain": [
       "                    СуммаСчета                                        \n",
       "                           sum           mean           std     median\n",
       "Контрагент                                                            \n",
       "ФГБОУ ВПО «СПбГПУ»   258720.00  258720.000000           NaN  258720.00\n",
       "СК ШЭН ХАО           200039.00  200039.000000           NaN  200039.00\n",
       "Сбербанк России      199200.00  199200.000000           NaN  199200.00\n",
       "КАППА                192678.85  192678.850000           NaN  192678.85\n",
       "ГАЗПРОМСТРОЙИНВЕСТ   191585.00  191585.000000           NaN  191585.00\n",
       "...                        ...            ...           ...        ...\n",
       "Латрэс               689234.41    7658.160111  12892.351534    3674.50\n",
       "Коска декор          243985.41    7624.544063  12257.622721    2526.50\n",
       "Гефест               299920.80    6120.832653   6785.240668    3800.00\n",
       "ПРОЕМ               1049905.68    5171.949163   3893.977937    4290.00\n",
       "АЛЬБАТРОС ООО        255813.08    3504.288767   4180.078605    1500.00\n",
       "\n",
       "[150 rows x 4 columns]"
      ]
     },
     "execution_count": 48,
     "metadata": {},
     "output_type": "execute_result"
    }
   ],
   "source": [
    "customers_am= df_clean_amount.groupby(['Контрагент']).agg({'СуммаСчета':['sum','mean','std','median']})\n",
    "customers_am.sort_values(by=[('СуммаСчета','sum')],ascending=False, inplace=True)\n",
    "customers_am =customers_am.head(150).sort_values(by=[('СуммаСчета','mean')],ascending=False)\n",
    "customers_am"
   ]
  },
  {
   "cell_type": "code",
   "execution_count": 49,
   "metadata": {},
   "outputs": [
    {
     "data": {
      "text/html": [
       "<div>\n",
       "<style scoped>\n",
       "    .dataframe tbody tr th:only-of-type {\n",
       "        vertical-align: middle;\n",
       "    }\n",
       "\n",
       "    .dataframe tbody tr th {\n",
       "        vertical-align: top;\n",
       "    }\n",
       "\n",
       "    .dataframe thead tr th {\n",
       "        text-align: left;\n",
       "    }\n",
       "\n",
       "    .dataframe thead tr:last-of-type th {\n",
       "        text-align: right;\n",
       "    }\n",
       "</style>\n",
       "<table border=\"1\" class=\"dataframe\">\n",
       "  <thead>\n",
       "    <tr>\n",
       "      <th></th>\n",
       "      <th colspan=\"4\" halign=\"left\">СуммаСчета</th>\n",
       "    </tr>\n",
       "    <tr>\n",
       "      <th></th>\n",
       "      <th>sum</th>\n",
       "      <th>mean</th>\n",
       "      <th>std</th>\n",
       "      <th>median</th>\n",
       "    </tr>\n",
       "    <tr>\n",
       "      <th>Контрагент</th>\n",
       "      <th></th>\n",
       "      <th></th>\n",
       "      <th></th>\n",
       "      <th></th>\n",
       "    </tr>\n",
       "  </thead>\n",
       "  <tbody>\n",
       "    <tr>\n",
       "      <td>ПСТ-Строй</td>\n",
       "      <td>68419030.77</td>\n",
       "      <td>42842.223400</td>\n",
       "      <td>44175.496163</td>\n",
       "      <td>29200.00</td>\n",
       "    </tr>\n",
       "    <tr>\n",
       "      <td>Авалон</td>\n",
       "      <td>67776139.08</td>\n",
       "      <td>27186.578051</td>\n",
       "      <td>36320.766724</td>\n",
       "      <td>14134.00</td>\n",
       "    </tr>\n",
       "    <tr>\n",
       "      <td>ЦентрСнаб</td>\n",
       "      <td>65262101.73</td>\n",
       "      <td>20368.945609</td>\n",
       "      <td>32814.016108</td>\n",
       "      <td>8790.53</td>\n",
       "    </tr>\n",
       "    <tr>\n",
       "      <td>Кратон</td>\n",
       "      <td>58734417.52</td>\n",
       "      <td>28692.925022</td>\n",
       "      <td>32265.521625</td>\n",
       "      <td>17568.00</td>\n",
       "    </tr>\n",
       "    <tr>\n",
       "      <td>РОСБИЛД ООО</td>\n",
       "      <td>48937028.19</td>\n",
       "      <td>42739.762611</td>\n",
       "      <td>55106.643354</td>\n",
       "      <td>20276.40</td>\n",
       "    </tr>\n",
       "    <tr>\n",
       "      <td>...</td>\n",
       "      <td>...</td>\n",
       "      <td>...</td>\n",
       "      <td>...</td>\n",
       "      <td>...</td>\n",
       "    </tr>\n",
       "    <tr>\n",
       "      <td>Сбербанк России</td>\n",
       "      <td>199200.00</td>\n",
       "      <td>199200.000000</td>\n",
       "      <td>NaN</td>\n",
       "      <td>199200.00</td>\n",
       "    </tr>\n",
       "    <tr>\n",
       "      <td>ЛСР. Базовые</td>\n",
       "      <td>198992.15</td>\n",
       "      <td>66330.716667</td>\n",
       "      <td>14829.006023</td>\n",
       "      <td>74798.00</td>\n",
       "    </tr>\n",
       "    <tr>\n",
       "      <td>КАППА</td>\n",
       "      <td>192678.85</td>\n",
       "      <td>192678.850000</td>\n",
       "      <td>NaN</td>\n",
       "      <td>192678.85</td>\n",
       "    </tr>\n",
       "    <tr>\n",
       "      <td>ГАЗПРОМСТРОЙИНВЕСТ</td>\n",
       "      <td>191585.00</td>\n",
       "      <td>191585.000000</td>\n",
       "      <td>NaN</td>\n",
       "      <td>191585.00</td>\n",
       "    </tr>\n",
       "    <tr>\n",
       "      <td>СТРОЙМАШ ООО</td>\n",
       "      <td>189000.00</td>\n",
       "      <td>189000.000000</td>\n",
       "      <td>NaN</td>\n",
       "      <td>189000.00</td>\n",
       "    </tr>\n",
       "  </tbody>\n",
       "</table>\n",
       "<p>150 rows × 4 columns</p>\n",
       "</div>"
      ],
      "text/plain": [
       "                     СуммаСчета                                        \n",
       "                            sum           mean           std     median\n",
       "Контрагент                                                             \n",
       "ПСТ-Строй           68419030.77   42842.223400  44175.496163   29200.00\n",
       "Авалон              67776139.08   27186.578051  36320.766724   14134.00\n",
       "ЦентрСнаб           65262101.73   20368.945609  32814.016108    8790.53\n",
       "Кратон              58734417.52   28692.925022  32265.521625   17568.00\n",
       "РОСБИЛД ООО         48937028.19   42739.762611  55106.643354   20276.40\n",
       "...                         ...            ...           ...        ...\n",
       "Сбербанк России       199200.00  199200.000000           NaN  199200.00\n",
       "ЛСР. Базовые          198992.15   66330.716667  14829.006023   74798.00\n",
       "КАППА                 192678.85  192678.850000           NaN  192678.85\n",
       "ГАЗПРОМСТРОЙИНВЕСТ    191585.00  191585.000000           NaN  191585.00\n",
       "СТРОЙМАШ ООО          189000.00  189000.000000           NaN  189000.00\n",
       "\n",
       "[150 rows x 4 columns]"
      ]
     },
     "execution_count": 49,
     "metadata": {},
     "output_type": "execute_result"
    }
   ],
   "source": [
    "customers_am.sort_values(by=[('СуммаСчета','sum')],ascending=False)"
   ]
  },
  {
   "cell_type": "markdown",
   "metadata": {},
   "source": [
    "Как видно, стандартное отклоннение больше среднего значения суммы счета, что говорит о большом разбросе. Таким образом трудно предсказать на какую смму будет счет по заявке"
   ]
  },
  {
   "cell_type": "markdown",
   "metadata": {},
   "source": [
    "Проведем однофакторный диспресионный анализ и выясним, имеет ли стастистически значимое влияние контрагент на количесвто позиций в счете с уровнем значимости 0,95"
   ]
  },
  {
   "cell_type": "code",
   "execution_count": 50,
   "metadata": {},
   "outputs": [],
   "source": [
    "# Контрагенты, которые попали в наш список\n",
    "clients_filtеr = customers_am.index\n",
    "# датафрейм только по выбранным клиентам \n",
    "df_clients_filtеr= df_clean_amount[df_clean_amount['Контрагент'].isin(clients_filtеr)]"
   ]
  },
  {
   "cell_type": "code",
   "execution_count": 51,
   "metadata": {},
   "outputs": [
    {
     "data": {
      "text/plain": [
       "(149, 28498, 28648, 25217.887997416918)"
      ]
     },
     "execution_count": 51,
     "metadata": {},
     "output_type": "execute_result"
    }
   ],
   "source": [
    "alpha = 0.05\n",
    "k1= len(clients_filtеr)-1\n",
    "y_mean = df_clients_filtеr['СуммаСчета'].mean()\n",
    "n = len(df_clients_filtеr)\n",
    "k2 = n-len(clients_filtеr)\n",
    "(k1,k2,n,y_mean)"
   ]
  },
  {
   "cell_type": "code",
   "execution_count": 52,
   "metadata": {},
   "outputs": [
    {
     "data": {
      "text/plain": [
       "(4756138875212.85, 35117704638525.64)"
      ]
     },
     "execution_count": 52,
     "metadata": {},
     "output_type": "execute_result"
    }
   ],
   "source": [
    "# отклонения дисперсии между клиентами\n",
    "s2b = 0\n",
    "#  отклонения внутри клиента \n",
    "s2w = 0\n",
    "# Посчитаем их\n",
    "for i in clients_filtеr:\n",
    "    m = df_clients_filtеr[df_clients_filtеr['Контрагент']==i]['СуммаСчета']\n",
    "    s2b+=((m.mean()-y_mean)**2)*len(m)\n",
    "    s2w+=((m-m.mean())**2).sum()\n",
    "(s2b,s2w)    "
   ]
  },
  {
   "cell_type": "code",
   "execution_count": 53,
   "metadata": {},
   "outputs": [
    {
     "data": {
      "text/plain": [
       "(31920395135.656708, 1232286639.0106547)"
      ]
     },
     "execution_count": 53,
     "metadata": {},
     "output_type": "execute_result"
    }
   ],
   "source": [
    "# оценки дисперсий:\n",
    "sigma2b = s2b/k1\n",
    "sigma2w = s2w/k2\n",
    "\n",
    "(sigma2b ,sigma2w )"
   ]
  },
  {
   "cell_type": "code",
   "execution_count": 54,
   "metadata": {},
   "outputs": [
    {
     "data": {
      "text/plain": [
       "25.9033849147988"
      ]
     },
     "execution_count": 54,
     "metadata": {},
     "output_type": "execute_result"
    }
   ],
   "source": [
    "# значение статистики 𝐹\n",
    "F = sigma2b / sigma2w\n",
    "F"
   ]
  },
  {
   "cell_type": "code",
   "execution_count": 55,
   "metadata": {},
   "outputs": [
    {
     "data": {
      "text/plain": [
       "1.1985494310490816"
      ]
     },
     "execution_count": 55,
     "metadata": {},
     "output_type": "execute_result"
    }
   ],
   "source": [
    "# распределение Фишера с параметрами k_1 и k_2 \n",
    "F_crit = stats.f.ppf(1 - alpha, k1, k2)\n",
    "F_crit"
   ]
  },
  {
   "cell_type": "markdown",
   "metadata": {},
   "source": [
    "Видим, что F>Fcrit , поэтому заключаем, что отличие количества поизиций в счете, действительно является статистически значимым в замвсимости от контрагента."
   ]
  },
  {
   "cell_type": "markdown",
   "metadata": {},
   "source": [
    "Рассмотрим взаимосвязь между количеством позиций в счете и суммой счета"
   ]
  },
  {
   "cell_type": "code",
   "execution_count": 56,
   "metadata": {},
   "outputs": [
    {
     "data": {
      "text/plain": [
       "<matplotlib.collections.PathCollection at 0x275634b8248>"
      ]
     },
     "execution_count": 56,
     "metadata": {},
     "output_type": "execute_result"
    },
    {
     "data": {
      "image/png": "[encoded data removed]",
      "text/plain": [
       "<Figure size 432x288 with 1 Axes>"
      ]
     },
     "metadata": {
      "needs_background": "light"
     },
     "output_type": "display_data"
    }
   ],
   "source": [
    "plt.scatter(df_clean_pos['КолПозиций'],df_clean_pos['СуммаСчета'])"
   ]
  },
  {
   "cell_type": "markdown",
   "metadata": {},
   "source": [
    "Уберем сета больше 150 000 "
   ]
  },
  {
   "cell_type": "code",
   "execution_count": 57,
   "metadata": {},
   "outputs": [],
   "source": [
    "df_clean_pos = df_clean_pos[df_clean_pos['СуммаСчета']<150000]"
   ]
  },
  {
   "cell_type": "code",
   "execution_count": 58,
   "metadata": {},
   "outputs": [
    {
     "data": {
      "text/plain": [
       "<matplotlib.collections.PathCollection at 0x2756338cbc8>"
      ]
     },
     "execution_count": 58,
     "metadata": {},
     "output_type": "execute_result"
    },
    {
     "data": {
      "image/png": "[encoded data removed]",
      "text/plain": [
       "<Figure size 432x288 with 1 Axes>"
      ]
     },
     "metadata": {
      "needs_background": "light"
     },
     "output_type": "display_data"
    }
   ],
   "source": [
    "plt.scatter(df_clean_pos['КолПозиций'],df_clean_pos['СуммаСчета'])"
   ]
  },
  {
   "cell_type": "markdown",
   "metadata": {},
   "source": [
    "Посчитаем коэфициент кореляции Пирсона"
   ]
  },
  {
   "cell_type": "code",
   "execution_count": 59,
   "metadata": {},
   "outputs": [
    {
     "data": {
      "text/html": [
       "<div>\n",
       "<style scoped>\n",
       "    .dataframe tbody tr th:only-of-type {\n",
       "        vertical-align: middle;\n",
       "    }\n",
       "\n",
       "    .dataframe tbody tr th {\n",
       "        vertical-align: top;\n",
       "    }\n",
       "\n",
       "    .dataframe thead th {\n",
       "        text-align: right;\n",
       "    }\n",
       "</style>\n",
       "<table border=\"1\" class=\"dataframe\">\n",
       "  <thead>\n",
       "    <tr style=\"text-align: right;\">\n",
       "      <th></th>\n",
       "      <th>КолПозиций</th>\n",
       "      <th>СуммаСчета</th>\n",
       "    </tr>\n",
       "  </thead>\n",
       "  <tbody>\n",
       "    <tr>\n",
       "      <td>КолПозиций</td>\n",
       "      <td>1.000000</td>\n",
       "      <td>0.488832</td>\n",
       "    </tr>\n",
       "    <tr>\n",
       "      <td>СуммаСчета</td>\n",
       "      <td>0.488832</td>\n",
       "      <td>1.000000</td>\n",
       "    </tr>\n",
       "  </tbody>\n",
       "</table>\n",
       "</div>"
      ],
      "text/plain": [
       "            КолПозиций  СуммаСчета\n",
       "КолПозиций    1.000000    0.488832\n",
       "СуммаСчета    0.488832    1.000000"
      ]
     },
     "execution_count": 59,
     "metadata": {},
     "output_type": "execute_result"
    }
   ],
   "source": [
    "df_clean_pos[['КолПозиций', 'СуммаСчета']].corr()"
   ]
  },
  {
   "cell_type": "markdown",
   "metadata": {},
   "source": [
    "Как ни странно, корреляция очень слабая. Казалось бы, чем больше позиций , тем больше должен быть счет.\n",
    "ПРоверим вдруг эта заивсимость не прямая."
   ]
  },
  {
   "cell_type": "markdown",
   "metadata": {},
   "source": [
    "Посчитаем коэфициент Кендала"
   ]
  },
  {
   "cell_type": "code",
   "execution_count": 60,
   "metadata": {
    "scrolled": true
   },
   "outputs": [
    {
     "data": {
      "text/html": [
       "<div>\n",
       "<style scoped>\n",
       "    .dataframe tbody tr th:only-of-type {\n",
       "        vertical-align: middle;\n",
       "    }\n",
       "\n",
       "    .dataframe tbody tr th {\n",
       "        vertical-align: top;\n",
       "    }\n",
       "\n",
       "    .dataframe thead th {\n",
       "        text-align: right;\n",
       "    }\n",
       "</style>\n",
       "<table border=\"1\" class=\"dataframe\">\n",
       "  <thead>\n",
       "    <tr style=\"text-align: right;\">\n",
       "      <th></th>\n",
       "      <th>КолПозиций</th>\n",
       "      <th>СуммаСчета</th>\n",
       "    </tr>\n",
       "  </thead>\n",
       "  <tbody>\n",
       "    <tr>\n",
       "      <td>КолПозиций</td>\n",
       "      <td>1.000000</td>\n",
       "      <td>0.374436</td>\n",
       "    </tr>\n",
       "    <tr>\n",
       "      <td>СуммаСчета</td>\n",
       "      <td>0.374436</td>\n",
       "      <td>1.000000</td>\n",
       "    </tr>\n",
       "  </tbody>\n",
       "</table>\n",
       "</div>"
      ],
      "text/plain": [
       "            КолПозиций  СуммаСчета\n",
       "КолПозиций    1.000000    0.374436\n",
       "СуммаСчета    0.374436    1.000000"
      ]
     },
     "execution_count": 60,
     "metadata": {},
     "output_type": "execute_result"
    }
   ],
   "source": [
    "df_clean_pos[['КолПозиций', 'СуммаСчета']].corr(method='kendall')"
   ]
  },
  {
   "cell_type": "markdown",
   "metadata": {},
   "source": [
    "Здесь еще хуже. Получается, счета с небольшим количеством позиций. которые используют меньше ресурсов, при этом дают большую экономическую отдачу.. То есть двойной экномический эффект"
   ]
  },
  {
   "cell_type": "markdown",
   "metadata": {},
   "source": [
    "Попробуем спрогнозировать сумму счета на основании количества позиций в счет через линейную регрессию. Хотя судя по графику это абсолютно бесполезно."
   ]
  },
  {
   "cell_type": "code",
   "execution_count": 61,
   "metadata": {},
   "outputs": [],
   "source": [
    "X_test = pd.DataFrame(df['КолПозиций'])\n",
    "Y_test = pd.DataFrame(df['СуммаСчета'])"
   ]
  },
  {
   "cell_type": "code",
   "execution_count": 62,
   "metadata": {},
   "outputs": [],
   "source": [
    "lr=LinearRegression()"
   ]
  },
  {
   "cell_type": "code",
   "execution_count": 63,
   "metadata": {},
   "outputs": [
    {
     "data": {
      "text/plain": [
       "LinearRegression(copy_X=True, fit_intercept=True, n_jobs=None, normalize=False)"
      ]
     },
     "execution_count": 63,
     "metadata": {},
     "output_type": "execute_result"
    }
   ],
   "source": [
    "lr.fit(X_test,Y_test)"
   ]
  },
  {
   "cell_type": "code",
   "execution_count": 64,
   "metadata": {},
   "outputs": [],
   "source": [
    "Y_pred = lr.predict(X_test)"
   ]
  },
  {
   "cell_type": "code",
   "execution_count": 65,
   "metadata": {},
   "outputs": [
    {
     "data": {
      "text/plain": [
       "0.18764465022108467"
      ]
     },
     "execution_count": 65,
     "metadata": {},
     "output_type": "execute_result"
    }
   ],
   "source": [
    "r2_score(Y_test,Y_pred)"
   ]
  },
  {
   "cell_type": "markdown",
   "metadata": {},
   "source": [
    "Не пригодно для использования"
   ]
  },
  {
   "cell_type": "code",
   "execution_count": 66,
   "metadata": {},
   "outputs": [
    {
     "data": {
      "text/html": [
       "<div>\n",
       "<style scoped>\n",
       "    .dataframe tbody tr th:only-of-type {\n",
       "        vertical-align: middle;\n",
       "    }\n",
       "\n",
       "    .dataframe tbody tr th {\n",
       "        vertical-align: top;\n",
       "    }\n",
       "\n",
       "    .dataframe thead th {\n",
       "        text-align: right;\n",
       "    }\n",
       "</style>\n",
       "<table border=\"1\" class=\"dataframe\">\n",
       "  <thead>\n",
       "    <tr style=\"text-align: right;\">\n",
       "      <th></th>\n",
       "      <th>Номер</th>\n",
       "      <th>Дата</th>\n",
       "      <th>Контрагент</th>\n",
       "      <th>СуммаСчета</th>\n",
       "      <th>КолПозиций</th>\n",
       "      <th>Год</th>\n",
       "      <th>Месяц</th>\n",
       "      <th>СтатусОтгрузки</th>\n",
       "    </tr>\n",
       "  </thead>\n",
       "  <tbody>\n",
       "    <tr>\n",
       "      <td>0</td>\n",
       "      <td>0000-000001</td>\n",
       "      <td>2013-01-25 17:24:07</td>\n",
       "      <td>Боргус</td>\n",
       "      <td>26876.00</td>\n",
       "      <td>19</td>\n",
       "      <td>2013</td>\n",
       "      <td>1</td>\n",
       "      <td>Отгружен</td>\n",
       "    </tr>\n",
       "    <tr>\n",
       "      <td>1</td>\n",
       "      <td>0000-000002</td>\n",
       "      <td>2013-01-25 18:26:56</td>\n",
       "      <td>Спецтранс</td>\n",
       "      <td>16520.00</td>\n",
       "      <td>1</td>\n",
       "      <td>2013</td>\n",
       "      <td>1</td>\n",
       "      <td>Отгружен</td>\n",
       "    </tr>\n",
       "    <tr>\n",
       "      <td>2</td>\n",
       "      <td>0000-000003</td>\n",
       "      <td>2013-01-28 14:46:55</td>\n",
       "      <td>Спецтранс</td>\n",
       "      <td>3980.14</td>\n",
       "      <td>1</td>\n",
       "      <td>2013</td>\n",
       "      <td>1</td>\n",
       "      <td>Отгружен</td>\n",
       "    </tr>\n",
       "    <tr>\n",
       "      <td>3</td>\n",
       "      <td>0000-000004</td>\n",
       "      <td>2013-01-28 15:23:55</td>\n",
       "      <td>Спецтранс</td>\n",
       "      <td>6873.50</td>\n",
       "      <td>4</td>\n",
       "      <td>2013</td>\n",
       "      <td>1</td>\n",
       "      <td>Отгружен</td>\n",
       "    </tr>\n",
       "    <tr>\n",
       "      <td>4</td>\n",
       "      <td>0000-000005</td>\n",
       "      <td>2013-01-28 15:35:52</td>\n",
       "      <td>Спецтранс</td>\n",
       "      <td>5040.00</td>\n",
       "      <td>3</td>\n",
       "      <td>2013</td>\n",
       "      <td>1</td>\n",
       "      <td>Отгружен</td>\n",
       "    </tr>\n",
       "    <tr>\n",
       "      <td>...</td>\n",
       "      <td>...</td>\n",
       "      <td>...</td>\n",
       "      <td>...</td>\n",
       "      <td>...</td>\n",
       "      <td>...</td>\n",
       "      <td>...</td>\n",
       "      <td>...</td>\n",
       "      <td>...</td>\n",
       "    </tr>\n",
       "    <tr>\n",
       "      <td>30153</td>\n",
       "      <td>КИ00-003082</td>\n",
       "      <td>2020-08-28 17:15:44</td>\n",
       "      <td>КБ-НС</td>\n",
       "      <td>5900.00</td>\n",
       "      <td>2</td>\n",
       "      <td>2020</td>\n",
       "      <td>8</td>\n",
       "      <td>Не отгружен</td>\n",
       "    </tr>\n",
       "    <tr>\n",
       "      <td>30154</td>\n",
       "      <td>КИ00-003083</td>\n",
       "      <td>2020-08-28 17:35:52</td>\n",
       "      <td>ЦентрСнаб</td>\n",
       "      <td>13151.00</td>\n",
       "      <td>2</td>\n",
       "      <td>2020</td>\n",
       "      <td>8</td>\n",
       "      <td>Не отгружен</td>\n",
       "    </tr>\n",
       "    <tr>\n",
       "      <td>30156</td>\n",
       "      <td>КИ00-003085</td>\n",
       "      <td>2020-08-28 17:59:40</td>\n",
       "      <td>ПСТ-Строй</td>\n",
       "      <td>95948.00</td>\n",
       "      <td>5</td>\n",
       "      <td>2020</td>\n",
       "      <td>8</td>\n",
       "      <td>Не отгружен</td>\n",
       "    </tr>\n",
       "    <tr>\n",
       "      <td>30157</td>\n",
       "      <td>СС00-001452</td>\n",
       "      <td>2020-08-28 18:42:19</td>\n",
       "      <td>СК Дали</td>\n",
       "      <td>1110.00</td>\n",
       "      <td>3</td>\n",
       "      <td>2020</td>\n",
       "      <td>8</td>\n",
       "      <td>Не отгружен</td>\n",
       "    </tr>\n",
       "    <tr>\n",
       "      <td>30159</td>\n",
       "      <td>СС00-001454</td>\n",
       "      <td>2020-08-28 20:03:38</td>\n",
       "      <td>СК Дали</td>\n",
       "      <td>0.00</td>\n",
       "      <td>5</td>\n",
       "      <td>2020</td>\n",
       "      <td>8</td>\n",
       "      <td>Не отгружен</td>\n",
       "    </tr>\n",
       "  </tbody>\n",
       "</table>\n",
       "<p>29086 rows × 8 columns</p>\n",
       "</div>"
      ],
      "text/plain": [
       "             Номер                Дата Контрагент  СуммаСчета  КолПозиций  \\\n",
       "0      0000-000001 2013-01-25 17:24:07     Боргус    26876.00          19   \n",
       "1      0000-000002 2013-01-25 18:26:56  Спецтранс    16520.00           1   \n",
       "2      0000-000003 2013-01-28 14:46:55  Спецтранс     3980.14           1   \n",
       "3      0000-000004 2013-01-28 15:23:55  Спецтранс     6873.50           4   \n",
       "4      0000-000005 2013-01-28 15:35:52  Спецтранс     5040.00           3   \n",
       "...            ...                 ...        ...         ...         ...   \n",
       "30153  КИ00-003082 2020-08-28 17:15:44      КБ-НС     5900.00           2   \n",
       "30154  КИ00-003083 2020-08-28 17:35:52  ЦентрСнаб    13151.00           2   \n",
       "30156  КИ00-003085 2020-08-28 17:59:40  ПСТ-Строй    95948.00           5   \n",
       "30157  СС00-001452 2020-08-28 18:42:19    СК Дали     1110.00           3   \n",
       "30159  СС00-001454 2020-08-28 20:03:38    СК Дали        0.00           5   \n",
       "\n",
       "        Год Месяц СтатусОтгрузки  \n",
       "0      2013     1       Отгружен  \n",
       "1      2013     1       Отгружен  \n",
       "2      2013     1       Отгружен  \n",
       "3      2013     1       Отгружен  \n",
       "4      2013     1       Отгружен  \n",
       "...     ...   ...            ...  \n",
       "30153  2020     8    Не отгружен  \n",
       "30154  2020     8    Не отгружен  \n",
       "30156  2020     8    Не отгружен  \n",
       "30157  2020     8    Не отгружен  \n",
       "30159  2020     8    Не отгружен  \n",
       "\n",
       "[29086 rows x 8 columns]"
      ]
     },
     "execution_count": 66,
     "metadata": {},
     "output_type": "execute_result"
    }
   ],
   "source": [
    "df_clean_pos"
   ]
  },
  {
   "cell_type": "markdown",
   "metadata": {},
   "source": [
    "Проанализируем счета по которым были отгрузки, и которые отменили (Не отгружен). Отгружен поменям на 1, не отгружен на 0"
   ]
  },
  {
   "cell_type": "code",
   "execution_count": 67,
   "metadata": {},
   "outputs": [],
   "source": [
    "d= {'Отгружен':1,'Не отгружен':0}"
   ]
  },
  {
   "cell_type": "code",
   "execution_count": 68,
   "metadata": {},
   "outputs": [
    {
     "name": "stderr",
     "output_type": "stream",
     "text": [
      "C:\\ProgramData\\Anaconda3\\lib\\site-packages\\ipykernel_launcher.py:1: SettingWithCopyWarning: \n",
      "A value is trying to be set on a copy of a slice from a DataFrame.\n",
      "Try using .loc[row_indexer,col_indexer] = value instead\n",
      "\n",
      "See the caveats in the documentation: http://pandas.pydata.org/pandas-docs/stable/user_guide/indexing.html#returning-a-view-versus-a-copy\n",
      "  \"\"\"Entry point for launching an IPython kernel.\n"
     ]
    }
   ],
   "source": [
    "df_clean_pos['СтатусОтгрузки'] = df_clean_pos['СтатусОтгрузки'].map(d)"
   ]
  },
  {
   "cell_type": "code",
   "execution_count": 69,
   "metadata": {},
   "outputs": [
    {
     "data": {
      "text/html": [
       "<div>\n",
       "<style scoped>\n",
       "    .dataframe tbody tr th:only-of-type {\n",
       "        vertical-align: middle;\n",
       "    }\n",
       "\n",
       "    .dataframe tbody tr th {\n",
       "        vertical-align: top;\n",
       "    }\n",
       "\n",
       "    .dataframe thead th {\n",
       "        text-align: right;\n",
       "    }\n",
       "</style>\n",
       "<table border=\"1\" class=\"dataframe\">\n",
       "  <thead>\n",
       "    <tr style=\"text-align: right;\">\n",
       "      <th></th>\n",
       "      <th>Номер</th>\n",
       "      <th>Дата</th>\n",
       "      <th>Контрагент</th>\n",
       "      <th>СуммаСчета</th>\n",
       "      <th>КолПозиций</th>\n",
       "      <th>Год</th>\n",
       "      <th>Месяц</th>\n",
       "      <th>СтатусОтгрузки</th>\n",
       "    </tr>\n",
       "  </thead>\n",
       "  <tbody>\n",
       "    <tr>\n",
       "      <td>0</td>\n",
       "      <td>0000-000001</td>\n",
       "      <td>2013-01-25 17:24:07</td>\n",
       "      <td>Боргус</td>\n",
       "      <td>26876.00</td>\n",
       "      <td>19</td>\n",
       "      <td>2013</td>\n",
       "      <td>1</td>\n",
       "      <td>1</td>\n",
       "    </tr>\n",
       "    <tr>\n",
       "      <td>1</td>\n",
       "      <td>0000-000002</td>\n",
       "      <td>2013-01-25 18:26:56</td>\n",
       "      <td>Спецтранс</td>\n",
       "      <td>16520.00</td>\n",
       "      <td>1</td>\n",
       "      <td>2013</td>\n",
       "      <td>1</td>\n",
       "      <td>1</td>\n",
       "    </tr>\n",
       "    <tr>\n",
       "      <td>2</td>\n",
       "      <td>0000-000003</td>\n",
       "      <td>2013-01-28 14:46:55</td>\n",
       "      <td>Спецтранс</td>\n",
       "      <td>3980.14</td>\n",
       "      <td>1</td>\n",
       "      <td>2013</td>\n",
       "      <td>1</td>\n",
       "      <td>1</td>\n",
       "    </tr>\n",
       "    <tr>\n",
       "      <td>3</td>\n",
       "      <td>0000-000004</td>\n",
       "      <td>2013-01-28 15:23:55</td>\n",
       "      <td>Спецтранс</td>\n",
       "      <td>6873.50</td>\n",
       "      <td>4</td>\n",
       "      <td>2013</td>\n",
       "      <td>1</td>\n",
       "      <td>1</td>\n",
       "    </tr>\n",
       "    <tr>\n",
       "      <td>4</td>\n",
       "      <td>0000-000005</td>\n",
       "      <td>2013-01-28 15:35:52</td>\n",
       "      <td>Спецтранс</td>\n",
       "      <td>5040.00</td>\n",
       "      <td>3</td>\n",
       "      <td>2013</td>\n",
       "      <td>1</td>\n",
       "      <td>1</td>\n",
       "    </tr>\n",
       "    <tr>\n",
       "      <td>...</td>\n",
       "      <td>...</td>\n",
       "      <td>...</td>\n",
       "      <td>...</td>\n",
       "      <td>...</td>\n",
       "      <td>...</td>\n",
       "      <td>...</td>\n",
       "      <td>...</td>\n",
       "      <td>...</td>\n",
       "    </tr>\n",
       "    <tr>\n",
       "      <td>30153</td>\n",
       "      <td>КИ00-003082</td>\n",
       "      <td>2020-08-28 17:15:44</td>\n",
       "      <td>КБ-НС</td>\n",
       "      <td>5900.00</td>\n",
       "      <td>2</td>\n",
       "      <td>2020</td>\n",
       "      <td>8</td>\n",
       "      <td>0</td>\n",
       "    </tr>\n",
       "    <tr>\n",
       "      <td>30154</td>\n",
       "      <td>КИ00-003083</td>\n",
       "      <td>2020-08-28 17:35:52</td>\n",
       "      <td>ЦентрСнаб</td>\n",
       "      <td>13151.00</td>\n",
       "      <td>2</td>\n",
       "      <td>2020</td>\n",
       "      <td>8</td>\n",
       "      <td>0</td>\n",
       "    </tr>\n",
       "    <tr>\n",
       "      <td>30156</td>\n",
       "      <td>КИ00-003085</td>\n",
       "      <td>2020-08-28 17:59:40</td>\n",
       "      <td>ПСТ-Строй</td>\n",
       "      <td>95948.00</td>\n",
       "      <td>5</td>\n",
       "      <td>2020</td>\n",
       "      <td>8</td>\n",
       "      <td>0</td>\n",
       "    </tr>\n",
       "    <tr>\n",
       "      <td>30157</td>\n",
       "      <td>СС00-001452</td>\n",
       "      <td>2020-08-28 18:42:19</td>\n",
       "      <td>СК Дали</td>\n",
       "      <td>1110.00</td>\n",
       "      <td>3</td>\n",
       "      <td>2020</td>\n",
       "      <td>8</td>\n",
       "      <td>0</td>\n",
       "    </tr>\n",
       "    <tr>\n",
       "      <td>30159</td>\n",
       "      <td>СС00-001454</td>\n",
       "      <td>2020-08-28 20:03:38</td>\n",
       "      <td>СК Дали</td>\n",
       "      <td>0.00</td>\n",
       "      <td>5</td>\n",
       "      <td>2020</td>\n",
       "      <td>8</td>\n",
       "      <td>0</td>\n",
       "    </tr>\n",
       "  </tbody>\n",
       "</table>\n",
       "<p>29086 rows × 8 columns</p>\n",
       "</div>"
      ],
      "text/plain": [
       "             Номер                Дата Контрагент  СуммаСчета  КолПозиций  \\\n",
       "0      0000-000001 2013-01-25 17:24:07     Боргус    26876.00          19   \n",
       "1      0000-000002 2013-01-25 18:26:56  Спецтранс    16520.00           1   \n",
       "2      0000-000003 2013-01-28 14:46:55  Спецтранс     3980.14           1   \n",
       "3      0000-000004 2013-01-28 15:23:55  Спецтранс     6873.50           4   \n",
       "4      0000-000005 2013-01-28 15:35:52  Спецтранс     5040.00           3   \n",
       "...            ...                 ...        ...         ...         ...   \n",
       "30153  КИ00-003082 2020-08-28 17:15:44      КБ-НС     5900.00           2   \n",
       "30154  КИ00-003083 2020-08-28 17:35:52  ЦентрСнаб    13151.00           2   \n",
       "30156  КИ00-003085 2020-08-28 17:59:40  ПСТ-Строй    95948.00           5   \n",
       "30157  СС00-001452 2020-08-28 18:42:19    СК Дали     1110.00           3   \n",
       "30159  СС00-001454 2020-08-28 20:03:38    СК Дали        0.00           5   \n",
       "\n",
       "        Год Месяц СтатусОтгрузки  \n",
       "0      2013     1              1  \n",
       "1      2013     1              1  \n",
       "2      2013     1              1  \n",
       "3      2013     1              1  \n",
       "4      2013     1              1  \n",
       "...     ...   ...            ...  \n",
       "30153  2020     8              0  \n",
       "30154  2020     8              0  \n",
       "30156  2020     8              0  \n",
       "30157  2020     8              0  \n",
       "30159  2020     8              0  \n",
       "\n",
       "[29086 rows x 8 columns]"
      ]
     },
     "execution_count": 69,
     "metadata": {},
     "output_type": "execute_result"
    }
   ],
   "source": [
    "df_clean_pos"
   ]
  },
  {
   "cell_type": "code",
   "execution_count": 70,
   "metadata": {},
   "outputs": [
    {
     "data": {
      "text/plain": [
       "1    78.759541\n",
       "0    21.240459\n",
       "Name: СтатусОтгрузки, dtype: float64"
      ]
     },
     "execution_count": 70,
     "metadata": {},
     "output_type": "execute_result"
    }
   ],
   "source": [
    "# Общие веротности счета быть отгруженным, в %\n",
    "df_clean_pos['СтатусОтгрузки'].value_counts()/len(df_clean_pos['СтатусОтгрузки'])*100"
   ]
  },
  {
   "cell_type": "code",
   "execution_count": 71,
   "metadata": {},
   "outputs": [
    {
     "data": {
      "text/plain": [
       "(array([ 6178., 22908.]), array([0. , 0.5, 1. ]), <a list of 2 Patch objects>)"
      ]
     },
     "execution_count": 71,
     "metadata": {},
     "output_type": "execute_result"
    },
    {
     "data": {
      "image/png": "[encoded data removed]",
      "text/plain": [
       "<Figure size 432x288 with 1 Axes>"
      ]
     },
     "metadata": {
      "needs_background": "light"
     },
     "output_type": "display_data"
    }
   ],
   "source": [
    "plt.hist(df_clean_pos['СтатусОтгрузки'],bins=2)"
   ]
  },
  {
   "cell_type": "markdown",
   "metadata": {},
   "source": [
    "Рассмотрим вероятность подтверждения счета в зависимости от количества позиций в нем"
   ]
  },
  {
   "cell_type": "code",
   "execution_count": 72,
   "metadata": {},
   "outputs": [
    {
     "data": {
      "text/html": [
       "<div>\n",
       "<style scoped>\n",
       "    .dataframe tbody tr th:only-of-type {\n",
       "        vertical-align: middle;\n",
       "    }\n",
       "\n",
       "    .dataframe tbody tr th {\n",
       "        vertical-align: top;\n",
       "    }\n",
       "\n",
       "    .dataframe thead tr th {\n",
       "        text-align: left;\n",
       "    }\n",
       "\n",
       "    .dataframe thead tr:last-of-type th {\n",
       "        text-align: right;\n",
       "    }\n",
       "</style>\n",
       "<table border=\"1\" class=\"dataframe\">\n",
       "  <thead>\n",
       "    <tr>\n",
       "      <th></th>\n",
       "      <th colspan=\"2\" halign=\"left\">СтатусОтгрузки</th>\n",
       "      <th>Доля</th>\n",
       "    </tr>\n",
       "    <tr>\n",
       "      <th></th>\n",
       "      <th>sum</th>\n",
       "      <th>count</th>\n",
       "      <th></th>\n",
       "    </tr>\n",
       "    <tr>\n",
       "      <th>КолПозиций</th>\n",
       "      <th></th>\n",
       "      <th></th>\n",
       "      <th></th>\n",
       "    </tr>\n",
       "  </thead>\n",
       "  <tbody>\n",
       "    <tr>\n",
       "      <td>30</td>\n",
       "      <td>65</td>\n",
       "      <td>70</td>\n",
       "      <td>0.928571</td>\n",
       "    </tr>\n",
       "    <tr>\n",
       "      <td>29</td>\n",
       "      <td>58</td>\n",
       "      <td>63</td>\n",
       "      <td>0.920635</td>\n",
       "    </tr>\n",
       "    <tr>\n",
       "      <td>25</td>\n",
       "      <td>92</td>\n",
       "      <td>102</td>\n",
       "      <td>0.901961</td>\n",
       "    </tr>\n",
       "    <tr>\n",
       "      <td>28</td>\n",
       "      <td>69</td>\n",
       "      <td>78</td>\n",
       "      <td>0.884615</td>\n",
       "    </tr>\n",
       "    <tr>\n",
       "      <td>34</td>\n",
       "      <td>29</td>\n",
       "      <td>33</td>\n",
       "      <td>0.878788</td>\n",
       "    </tr>\n",
       "    <tr>\n",
       "      <td>33</td>\n",
       "      <td>36</td>\n",
       "      <td>41</td>\n",
       "      <td>0.878049</td>\n",
       "    </tr>\n",
       "    <tr>\n",
       "      <td>31</td>\n",
       "      <td>40</td>\n",
       "      <td>46</td>\n",
       "      <td>0.869565</td>\n",
       "    </tr>\n",
       "    <tr>\n",
       "      <td>18</td>\n",
       "      <td>207</td>\n",
       "      <td>239</td>\n",
       "      <td>0.866109</td>\n",
       "    </tr>\n",
       "    <tr>\n",
       "      <td>24</td>\n",
       "      <td>113</td>\n",
       "      <td>132</td>\n",
       "      <td>0.856061</td>\n",
       "    </tr>\n",
       "    <tr>\n",
       "      <td>27</td>\n",
       "      <td>56</td>\n",
       "      <td>66</td>\n",
       "      <td>0.848485</td>\n",
       "    </tr>\n",
       "    <tr>\n",
       "      <td>20</td>\n",
       "      <td>176</td>\n",
       "      <td>208</td>\n",
       "      <td>0.846154</td>\n",
       "    </tr>\n",
       "    <tr>\n",
       "      <td>37</td>\n",
       "      <td>25</td>\n",
       "      <td>30</td>\n",
       "      <td>0.833333</td>\n",
       "    </tr>\n",
       "    <tr>\n",
       "      <td>36</td>\n",
       "      <td>24</td>\n",
       "      <td>29</td>\n",
       "      <td>0.827586</td>\n",
       "    </tr>\n",
       "    <tr>\n",
       "      <td>11</td>\n",
       "      <td>458</td>\n",
       "      <td>564</td>\n",
       "      <td>0.812057</td>\n",
       "    </tr>\n",
       "    <tr>\n",
       "      <td>15</td>\n",
       "      <td>290</td>\n",
       "      <td>359</td>\n",
       "      <td>0.807799</td>\n",
       "    </tr>\n",
       "    <tr>\n",
       "      <td>10</td>\n",
       "      <td>514</td>\n",
       "      <td>642</td>\n",
       "      <td>0.800623</td>\n",
       "    </tr>\n",
       "    <tr>\n",
       "      <td>21</td>\n",
       "      <td>115</td>\n",
       "      <td>144</td>\n",
       "      <td>0.798611</td>\n",
       "    </tr>\n",
       "    <tr>\n",
       "      <td>14</td>\n",
       "      <td>324</td>\n",
       "      <td>406</td>\n",
       "      <td>0.798030</td>\n",
       "    </tr>\n",
       "    <tr>\n",
       "      <td>22</td>\n",
       "      <td>118</td>\n",
       "      <td>148</td>\n",
       "      <td>0.797297</td>\n",
       "    </tr>\n",
       "    <tr>\n",
       "      <td>23</td>\n",
       "      <td>112</td>\n",
       "      <td>141</td>\n",
       "      <td>0.794326</td>\n",
       "    </tr>\n",
       "    <tr>\n",
       "      <td>32</td>\n",
       "      <td>27</td>\n",
       "      <td>34</td>\n",
       "      <td>0.794118</td>\n",
       "    </tr>\n",
       "    <tr>\n",
       "      <td>2</td>\n",
       "      <td>3546</td>\n",
       "      <td>4483</td>\n",
       "      <td>0.790988</td>\n",
       "    </tr>\n",
       "    <tr>\n",
       "      <td>1</td>\n",
       "      <td>7007</td>\n",
       "      <td>8860</td>\n",
       "      <td>0.790858</td>\n",
       "    </tr>\n",
       "    <tr>\n",
       "      <td>12</td>\n",
       "      <td>398</td>\n",
       "      <td>504</td>\n",
       "      <td>0.789683</td>\n",
       "    </tr>\n",
       "    <tr>\n",
       "      <td>16</td>\n",
       "      <td>246</td>\n",
       "      <td>313</td>\n",
       "      <td>0.785942</td>\n",
       "    </tr>\n",
       "    <tr>\n",
       "      <td>4</td>\n",
       "      <td>1565</td>\n",
       "      <td>1997</td>\n",
       "      <td>0.783676</td>\n",
       "    </tr>\n",
       "    <tr>\n",
       "      <td>13</td>\n",
       "      <td>357</td>\n",
       "      <td>458</td>\n",
       "      <td>0.779476</td>\n",
       "    </tr>\n",
       "    <tr>\n",
       "      <td>6</td>\n",
       "      <td>982</td>\n",
       "      <td>1271</td>\n",
       "      <td>0.772620</td>\n",
       "    </tr>\n",
       "    <tr>\n",
       "      <td>9</td>\n",
       "      <td>590</td>\n",
       "      <td>764</td>\n",
       "      <td>0.772251</td>\n",
       "    </tr>\n",
       "    <tr>\n",
       "      <td>17</td>\n",
       "      <td>200</td>\n",
       "      <td>259</td>\n",
       "      <td>0.772201</td>\n",
       "    </tr>\n",
       "    <tr>\n",
       "      <td>5</td>\n",
       "      <td>1150</td>\n",
       "      <td>1493</td>\n",
       "      <td>0.770261</td>\n",
       "    </tr>\n",
       "    <tr>\n",
       "      <td>19</td>\n",
       "      <td>174</td>\n",
       "      <td>226</td>\n",
       "      <td>0.769912</td>\n",
       "    </tr>\n",
       "    <tr>\n",
       "      <td>3</td>\n",
       "      <td>2180</td>\n",
       "      <td>2838</td>\n",
       "      <td>0.768147</td>\n",
       "    </tr>\n",
       "    <tr>\n",
       "      <td>7</td>\n",
       "      <td>822</td>\n",
       "      <td>1071</td>\n",
       "      <td>0.767507</td>\n",
       "    </tr>\n",
       "    <tr>\n",
       "      <td>8</td>\n",
       "      <td>670</td>\n",
       "      <td>875</td>\n",
       "      <td>0.765714</td>\n",
       "    </tr>\n",
       "    <tr>\n",
       "      <td>26</td>\n",
       "      <td>59</td>\n",
       "      <td>79</td>\n",
       "      <td>0.746835</td>\n",
       "    </tr>\n",
       "    <tr>\n",
       "      <td>35</td>\n",
       "      <td>14</td>\n",
       "      <td>20</td>\n",
       "      <td>0.700000</td>\n",
       "    </tr>\n",
       "  </tbody>\n",
       "</table>\n",
       "</div>"
      ],
      "text/plain": [
       "           СтатусОтгрузки            Доля\n",
       "                      sum count          \n",
       "КолПозиций                               \n",
       "30                     65    70  0.928571\n",
       "29                     58    63  0.920635\n",
       "25                     92   102  0.901961\n",
       "28                     69    78  0.884615\n",
       "34                     29    33  0.878788\n",
       "33                     36    41  0.878049\n",
       "31                     40    46  0.869565\n",
       "18                    207   239  0.866109\n",
       "24                    113   132  0.856061\n",
       "27                     56    66  0.848485\n",
       "20                    176   208  0.846154\n",
       "37                     25    30  0.833333\n",
       "36                     24    29  0.827586\n",
       "11                    458   564  0.812057\n",
       "15                    290   359  0.807799\n",
       "10                    514   642  0.800623\n",
       "21                    115   144  0.798611\n",
       "14                    324   406  0.798030\n",
       "22                    118   148  0.797297\n",
       "23                    112   141  0.794326\n",
       "32                     27    34  0.794118\n",
       "2                    3546  4483  0.790988\n",
       "1                    7007  8860  0.790858\n",
       "12                    398   504  0.789683\n",
       "16                    246   313  0.785942\n",
       "4                    1565  1997  0.783676\n",
       "13                    357   458  0.779476\n",
       "6                     982  1271  0.772620\n",
       "9                     590   764  0.772251\n",
       "17                    200   259  0.772201\n",
       "5                    1150  1493  0.770261\n",
       "19                    174   226  0.769912\n",
       "3                    2180  2838  0.768147\n",
       "7                     822  1071  0.767507\n",
       "8                     670   875  0.765714\n",
       "26                     59    79  0.746835\n",
       "35                     14    20  0.700000"
      ]
     },
     "execution_count": 72,
     "metadata": {},
     "output_type": "execute_result"
    }
   ],
   "source": [
    "df_clean_pos_=df_clean_pos.copy()\n",
    "df_clean_pos_['СтатусОтгрузки']=df_clean_pos_['СтатусОтгрузки'].astype('int')\n",
    "posishion_decision= df_clean_pos_.groupby(['КолПозиций']).agg({'СтатусОтгрузки':['sum','count']})\n",
    "d= posishion_decision['СтатусОтгрузки'][['sum']].values\n",
    "c= posishion_decision['СтатусОтгрузки'][['count']].values\n",
    "posishion_decision['Доля'] =d/c\n",
    "posishion_decision.sort_values(by=['Доля'],ascending=False)\n"
   ]
  },
  {
   "cell_type": "markdown",
   "metadata": {},
   "source": [
    "Как видно при среднем количестве позиций в счете (6) веротяность составляет 77%, пр  медианном количестве (3) - 76,8 %. Что чуть ниже чем в средем по ГС"
   ]
  },
  {
   "cell_type": "code",
   "execution_count": 73,
   "metadata": {},
   "outputs": [
    {
     "data": {
      "text/plain": [
       "[<matplotlib.lines.Line2D at 0x27563433d08>]"
      ]
     },
     "execution_count": 73,
     "metadata": {},
     "output_type": "execute_result"
    },
    {
     "data": {
      "image/png": "[encoded data removed]",
      "text/plain": [
       "<Figure size 432x288 with 1 Axes>"
      ]
     },
     "metadata": {
      "needs_background": "light"
     },
     "output_type": "display_data"
    }
   ],
   "source": [
    "# Отборазим долю подтвержденных счетов в зависимости от количества позиций в счете\n",
    "plt.plot(posishion_decision.index,posishion_decision['Доля'])"
   ]
  },
  {
   "cell_type": "code",
   "execution_count": 74,
   "metadata": {},
   "outputs": [
    {
     "data": {
      "text/plain": [
       "[<matplotlib.lines.Line2D at 0x27562fae348>]"
      ]
     },
     "execution_count": 74,
     "metadata": {},
     "output_type": "execute_result"
    },
    {
     "data": {
      "image/png": "[encoded data removed]",
      "text/plain": [
       "<Figure size 432x288 with 1 Axes>"
      ]
     },
     "metadata": {
      "needs_background": "light"
     },
     "output_type": "display_data"
    }
   ],
   "source": [
    "# Отобброзим сумму подтвержденных счетов в зависмости от количества позиций в счете\n",
    "# Красным это сумма не подтвержденных счетов в звисимости о количества позиций в счетах\n",
    "plt.plot(posishion_decision.index,d)\n",
    "plt.plot(posishion_decision.index,(c-d))"
   ]
  },
  {
   "cell_type": "markdown",
   "metadata": {},
   "source": [
    "Рассмотри статистику подтвержденых счетов в зависимости от клиента"
   ]
  },
  {
   "cell_type": "code",
   "execution_count": 75,
   "metadata": {},
   "outputs": [
    {
     "data": {
      "text/html": [
       "<div>\n",
       "<style scoped>\n",
       "    .dataframe tbody tr th:only-of-type {\n",
       "        vertical-align: middle;\n",
       "    }\n",
       "\n",
       "    .dataframe tbody tr th {\n",
       "        vertical-align: top;\n",
       "    }\n",
       "\n",
       "    .dataframe thead tr th {\n",
       "        text-align: left;\n",
       "    }\n",
       "\n",
       "    .dataframe thead tr:last-of-type th {\n",
       "        text-align: right;\n",
       "    }\n",
       "</style>\n",
       "<table border=\"1\" class=\"dataframe\">\n",
       "  <thead>\n",
       "    <tr>\n",
       "      <th></th>\n",
       "      <th colspan=\"2\" halign=\"left\">СтатусОтгрузки</th>\n",
       "      <th>Доля</th>\n",
       "    </tr>\n",
       "    <tr>\n",
       "      <th></th>\n",
       "      <th>sum</th>\n",
       "      <th>count</th>\n",
       "      <th></th>\n",
       "    </tr>\n",
       "    <tr>\n",
       "      <th>Контрагент</th>\n",
       "      <th></th>\n",
       "      <th></th>\n",
       "      <th></th>\n",
       "    </tr>\n",
       "  </thead>\n",
       "  <tbody>\n",
       "    <tr>\n",
       "      <td>ИНЖСТРОЙ СПБ ООО</td>\n",
       "      <td>24</td>\n",
       "      <td>24</td>\n",
       "      <td>1.000000</td>\n",
       "    </tr>\n",
       "    <tr>\n",
       "      <td>ТИТАН ИНЖИНИРИНГ</td>\n",
       "      <td>27</td>\n",
       "      <td>27</td>\n",
       "      <td>1.000000</td>\n",
       "    </tr>\n",
       "    <tr>\n",
       "      <td>Артель</td>\n",
       "      <td>42</td>\n",
       "      <td>42</td>\n",
       "      <td>1.000000</td>\n",
       "    </tr>\n",
       "    <tr>\n",
       "      <td>СК ДСС</td>\n",
       "      <td>37</td>\n",
       "      <td>37</td>\n",
       "      <td>1.000000</td>\n",
       "    </tr>\n",
       "    <tr>\n",
       "      <td>ТЕПЛОКОМ ЗАО</td>\n",
       "      <td>25</td>\n",
       "      <td>25</td>\n",
       "      <td>1.000000</td>\n",
       "    </tr>\n",
       "    <tr>\n",
       "      <td>...</td>\n",
       "      <td>...</td>\n",
       "      <td>...</td>\n",
       "      <td>...</td>\n",
       "    </tr>\n",
       "    <tr>\n",
       "      <td>СВАРГОС ООО</td>\n",
       "      <td>16</td>\n",
       "      <td>35</td>\n",
       "      <td>0.457143</td>\n",
       "    </tr>\n",
       "    <tr>\n",
       "      <td>Сантехстрой</td>\n",
       "      <td>17</td>\n",
       "      <td>38</td>\n",
       "      <td>0.447368</td>\n",
       "    </tr>\n",
       "    <tr>\n",
       "      <td>Авалон</td>\n",
       "      <td>1040</td>\n",
       "      <td>2449</td>\n",
       "      <td>0.424663</td>\n",
       "    </tr>\n",
       "    <tr>\n",
       "      <td>Мостострой №6</td>\n",
       "      <td>8</td>\n",
       "      <td>23</td>\n",
       "      <td>0.347826</td>\n",
       "    </tr>\n",
       "    <tr>\n",
       "      <td>Центр СПб ГУДП</td>\n",
       "      <td>0</td>\n",
       "      <td>42</td>\n",
       "      <td>0.000000</td>\n",
       "    </tr>\n",
       "  </tbody>\n",
       "</table>\n",
       "<p>99 rows × 3 columns</p>\n",
       "</div>"
      ],
      "text/plain": [
       "                 СтатусОтгрузки            Доля\n",
       "                            sum count          \n",
       "Контрагент                                     \n",
       "ИНЖСТРОЙ СПБ ООО             24    24  1.000000\n",
       "ТИТАН ИНЖИНИРИНГ             27    27  1.000000\n",
       "Артель                       42    42  1.000000\n",
       "СК ДСС                       37    37  1.000000\n",
       "ТЕПЛОКОМ ЗАО                 25    25  1.000000\n",
       "...                         ...   ...       ...\n",
       "СВАРГОС ООО                  16    35  0.457143\n",
       "Сантехстрой                  17    38  0.447368\n",
       "Авалон                     1040  2449  0.424663\n",
       "Мостострой №6                 8    23  0.347826\n",
       "Центр СПб ГУДП                0    42  0.000000\n",
       "\n",
       "[99 rows x 3 columns]"
      ]
     },
     "execution_count": 75,
     "metadata": {},
     "output_type": "execute_result"
    }
   ],
   "source": [
    "# Возмем первых 100 клиннтов, которые делают осноной объем\n",
    "decision_client= df_clean_pos_.groupby(['Контрагент']).agg({'СтатусОтгрузки':['sum','count']})\n",
    "d= decision_client['СтатусОтгрузки'][['sum']].values\n",
    "c= decision_client['СтатусОтгрузки'][['count']].values\n",
    "decision_client['Доля'] =d/c\n",
    "decision_client=decision_client.sort_values(by=[('СтатусОтгрузки','count')],ascending=False).head(99)\n",
    "decision_client.sort_values(by=['Доля'],ascending=False)"
   ]
  },
  {
   "cell_type": "code",
   "execution_count": 76,
   "metadata": {},
   "outputs": [
    {
     "data": {
      "text/html": [
       "<div>\n",
       "<style scoped>\n",
       "    .dataframe tbody tr th:only-of-type {\n",
       "        vertical-align: middle;\n",
       "    }\n",
       "\n",
       "    .dataframe tbody tr th {\n",
       "        vertical-align: top;\n",
       "    }\n",
       "\n",
       "    .dataframe thead tr th {\n",
       "        text-align: left;\n",
       "    }\n",
       "\n",
       "    .dataframe thead tr:last-of-type th {\n",
       "        text-align: right;\n",
       "    }\n",
       "</style>\n",
       "<table border=\"1\" class=\"dataframe\">\n",
       "  <thead>\n",
       "    <tr>\n",
       "      <th></th>\n",
       "      <th colspan=\"2\" halign=\"left\">СтатусОтгрузки</th>\n",
       "      <th>Доля</th>\n",
       "    </tr>\n",
       "    <tr>\n",
       "      <th></th>\n",
       "      <th>sum</th>\n",
       "      <th>count</th>\n",
       "      <th></th>\n",
       "    </tr>\n",
       "    <tr>\n",
       "      <th>Контрагент</th>\n",
       "      <th></th>\n",
       "      <th></th>\n",
       "      <th></th>\n",
       "    </tr>\n",
       "  </thead>\n",
       "  <tbody>\n",
       "    <tr>\n",
       "      <td>ЦентрСнаб</td>\n",
       "      <td>1929</td>\n",
       "      <td>3157</td>\n",
       "      <td>0.611023</td>\n",
       "    </tr>\n",
       "    <tr>\n",
       "      <td>Авалон</td>\n",
       "      <td>1040</td>\n",
       "      <td>2449</td>\n",
       "      <td>0.424663</td>\n",
       "    </tr>\n",
       "    <tr>\n",
       "      <td>Кратон</td>\n",
       "      <td>1949</td>\n",
       "      <td>1977</td>\n",
       "      <td>0.985837</td>\n",
       "    </tr>\n",
       "    <tr>\n",
       "      <td>ПСТ-Строй</td>\n",
       "      <td>1516</td>\n",
       "      <td>1535</td>\n",
       "      <td>0.987622</td>\n",
       "    </tr>\n",
       "    <tr>\n",
       "      <td>ТехАтомСтрой</td>\n",
       "      <td>1156</td>\n",
       "      <td>1359</td>\n",
       "      <td>0.850625</td>\n",
       "    </tr>\n",
       "    <tr>\n",
       "      <td>...</td>\n",
       "      <td>...</td>\n",
       "      <td>...</td>\n",
       "      <td>...</td>\n",
       "    </tr>\n",
       "    <tr>\n",
       "      <td>ДорГранитСтрой</td>\n",
       "      <td>15</td>\n",
       "      <td>20</td>\n",
       "      <td>0.750000</td>\n",
       "    </tr>\n",
       "    <tr>\n",
       "      <td>СК-СТАНДАРТ ООО</td>\n",
       "      <td>17</td>\n",
       "      <td>19</td>\n",
       "      <td>0.894737</td>\n",
       "    </tr>\n",
       "    <tr>\n",
       "      <td>Технология Комфорта</td>\n",
       "      <td>14</td>\n",
       "      <td>19</td>\n",
       "      <td>0.736842</td>\n",
       "    </tr>\n",
       "    <tr>\n",
       "      <td>ТеплоЭнерго</td>\n",
       "      <td>15</td>\n",
       "      <td>18</td>\n",
       "      <td>0.833333</td>\n",
       "    </tr>\n",
       "    <tr>\n",
       "      <td>Спецкомплект</td>\n",
       "      <td>11</td>\n",
       "      <td>18</td>\n",
       "      <td>0.611111</td>\n",
       "    </tr>\n",
       "  </tbody>\n",
       "</table>\n",
       "<p>99 rows × 3 columns</p>\n",
       "</div>"
      ],
      "text/plain": [
       "                    СтатусОтгрузки            Доля\n",
       "                               sum count          \n",
       "Контрагент                                        \n",
       "ЦентрСнаб                     1929  3157  0.611023\n",
       "Авалон                        1040  2449  0.424663\n",
       "Кратон                        1949  1977  0.985837\n",
       "ПСТ-Строй                     1516  1535  0.987622\n",
       "ТехАтомСтрой                  1156  1359  0.850625\n",
       "...                            ...   ...       ...\n",
       "ДорГранитСтрой                  15    20  0.750000\n",
       "СК-СТАНДАРТ ООО                 17    19  0.894737\n",
       "Технология Комфорта             14    19  0.736842\n",
       "ТеплоЭнерго                     15    18  0.833333\n",
       "Спецкомплект                    11    18  0.611111\n",
       "\n",
       "[99 rows x 3 columns]"
      ]
     },
     "execution_count": 76,
     "metadata": {},
     "output_type": "execute_result"
    }
   ],
   "source": [
    "decision_client.sort_values(by=[('СтатусОтгрузки','count')],ascending=False).head(99)"
   ]
  },
  {
   "cell_type": "markdown",
   "metadata": {},
   "source": [
    "Постороим модель логистисемкой регрессии используя три признака: Контрагент, кол. позиций в счете, сумма счета. Целевая переменная показатель тгружен чет или нет"
   ]
  },
  {
   "cell_type": "code",
   "execution_count": 77,
   "metadata": {},
   "outputs": [
    {
     "data": {
      "text/html": [
       "<div>\n",
       "<style scoped>\n",
       "    .dataframe tbody tr th:only-of-type {\n",
       "        vertical-align: middle;\n",
       "    }\n",
       "\n",
       "    .dataframe tbody tr th {\n",
       "        vertical-align: top;\n",
       "    }\n",
       "\n",
       "    .dataframe thead th {\n",
       "        text-align: right;\n",
       "    }\n",
       "</style>\n",
       "<table border=\"1\" class=\"dataframe\">\n",
       "  <thead>\n",
       "    <tr style=\"text-align: right;\">\n",
       "      <th></th>\n",
       "      <th>Контрагент</th>\n",
       "      <th>КолПозиций</th>\n",
       "      <th>СуммаСчета</th>\n",
       "    </tr>\n",
       "  </thead>\n",
       "  <tbody>\n",
       "    <tr>\n",
       "      <td>0</td>\n",
       "      <td>Боргус</td>\n",
       "      <td>19</td>\n",
       "      <td>26876.00</td>\n",
       "    </tr>\n",
       "    <tr>\n",
       "      <td>1</td>\n",
       "      <td>Спецтранс</td>\n",
       "      <td>1</td>\n",
       "      <td>16520.00</td>\n",
       "    </tr>\n",
       "    <tr>\n",
       "      <td>2</td>\n",
       "      <td>Спецтранс</td>\n",
       "      <td>1</td>\n",
       "      <td>3980.14</td>\n",
       "    </tr>\n",
       "    <tr>\n",
       "      <td>3</td>\n",
       "      <td>Спецтранс</td>\n",
       "      <td>4</td>\n",
       "      <td>6873.50</td>\n",
       "    </tr>\n",
       "    <tr>\n",
       "      <td>4</td>\n",
       "      <td>Спецтранс</td>\n",
       "      <td>3</td>\n",
       "      <td>5040.00</td>\n",
       "    </tr>\n",
       "    <tr>\n",
       "      <td>...</td>\n",
       "      <td>...</td>\n",
       "      <td>...</td>\n",
       "      <td>...</td>\n",
       "    </tr>\n",
       "    <tr>\n",
       "      <td>30153</td>\n",
       "      <td>КБ-НС</td>\n",
       "      <td>2</td>\n",
       "      <td>5900.00</td>\n",
       "    </tr>\n",
       "    <tr>\n",
       "      <td>30154</td>\n",
       "      <td>ЦентрСнаб</td>\n",
       "      <td>2</td>\n",
       "      <td>13151.00</td>\n",
       "    </tr>\n",
       "    <tr>\n",
       "      <td>30156</td>\n",
       "      <td>ПСТ-Строй</td>\n",
       "      <td>5</td>\n",
       "      <td>95948.00</td>\n",
       "    </tr>\n",
       "    <tr>\n",
       "      <td>30157</td>\n",
       "      <td>СК Дали</td>\n",
       "      <td>3</td>\n",
       "      <td>1110.00</td>\n",
       "    </tr>\n",
       "    <tr>\n",
       "      <td>30159</td>\n",
       "      <td>СК Дали</td>\n",
       "      <td>5</td>\n",
       "      <td>0.00</td>\n",
       "    </tr>\n",
       "  </tbody>\n",
       "</table>\n",
       "<p>29086 rows × 3 columns</p>\n",
       "</div>"
      ],
      "text/plain": [
       "      Контрагент  КолПозиций  СуммаСчета\n",
       "0         Боргус          19    26876.00\n",
       "1      Спецтранс           1    16520.00\n",
       "2      Спецтранс           1     3980.14\n",
       "3      Спецтранс           4     6873.50\n",
       "4      Спецтранс           3     5040.00\n",
       "...          ...         ...         ...\n",
       "30153      КБ-НС           2     5900.00\n",
       "30154  ЦентрСнаб           2    13151.00\n",
       "30156  ПСТ-Строй           5    95948.00\n",
       "30157    СК Дали           3     1110.00\n",
       "30159    СК Дали           5        0.00\n",
       "\n",
       "[29086 rows x 3 columns]"
      ]
     },
     "execution_count": 77,
     "metadata": {},
     "output_type": "execute_result"
    }
   ],
   "source": [
    "X_train = df_clean_pos[['Контрагент','КолПозиций','СуммаСчета']]\n",
    "X_train"
   ]
  },
  {
   "cell_type": "code",
   "execution_count": 78,
   "metadata": {},
   "outputs": [
    {
     "data": {
      "text/plain": [
       "{'Строительная Компания Балт-Строй': 1,\n",
       " 'НОВЫЙ СВЕТ-ЭКО': 2,\n",
       " 'Тименбеков М.Т.': 3,\n",
       " 'Сибстройэнерго': 4,\n",
       " 'СТРОПКОМПЛЕКТ': 5,\n",
       " 'Кайпорак': 6,\n",
       " 'ТД ТехноСнабХим': 7,\n",
       " 'Всеволжское ДРСУ': 8,\n",
       " 'Феникс': 9,\n",
       " 'Адмиралтейские верфи': 10,\n",
       " 'Невский лакокрасочный завод': 11,\n",
       " 'СтройКорпус': 12,\n",
       " 'ЗДТ Ареопаг': 13,\n",
       " 'НОВА': 14,\n",
       " 'ПТК МИР': 15,\n",
       " 'АЛЬБАТРОС ООО': 16,\n",
       " 'ГК Алмаз': 17,\n",
       " 'СМУ-9': 18,\n",
       " 'ЭБС ООО': 19,\n",
       " 'Электро-М ООО': 20,\n",
       " 'МИР': 21,\n",
       " 'ЮИТ Санкт-Петербург': 22,\n",
       " 'ОНИКС ООО': 23,\n",
       " 'ПРОМТЭК-СОЮЗ': 24,\n",
       " 'Евроключ ООО': 25,\n",
       " 'ИП Егоров Сергей Анатольевич': 26,\n",
       " 'ПСК': 27,\n",
       " 'Газстроймашина ООО': 28,\n",
       " 'ТехСоюз': 29,\n",
       " 'Балтийский завод': 30,\n",
       " 'АТЛАНТ ООО': 31,\n",
       " 'Авалон': 32,\n",
       " 'Акварель': 33,\n",
       " 'ПЕРСПЕКТИВА': 34,\n",
       " '31 ГПИСС': 35,\n",
       " 'ТехСоюз-Строй': 36,\n",
       " 'Склад': 37,\n",
       " 'БВБ-Альянс-Тюмень': 38,\n",
       " 'АЭСТ и С': 39,\n",
       " 'Комплектация-СЗ': 40,\n",
       " 'МТ групп': 41,\n",
       " 'Стройторг': 42,\n",
       " 'Завод Знамя труда': 43,\n",
       " 'ТэчЭл': 44,\n",
       " 'Медпром': 45,\n",
       " 'Ситранс': 46,\n",
       " 'ЕВРОИНВЕСТ ДЕВЕЛОПМЕНТ': 47,\n",
       " 'Бикор БМП ООО': 48,\n",
       " 'АКВАМАРИН': 49,\n",
       " 'Солнечный': 50,\n",
       " 'ГИЛЬДИЯ ПОСТАВЩИКОВ': 51,\n",
       " 'ДекоСтройМонтаж': 52,\n",
       " 'КБ-НС': 53,\n",
       " 'ЯЛУКС-Групп': 54,\n",
       " 'НПО ПМ': 55,\n",
       " 'СтройИмидж': 56,\n",
       " 'ТОР ООО': 57,\n",
       " 'Неруд Пром': 58,\n",
       " 'ЮИТ Сервис': 59,\n",
       " 'ПРИМА ООО': 60,\n",
       " 'БОЛЬШОЙ ГОРОД ООО': 61,\n",
       " 'Электротехмонтаж ТД': 62,\n",
       " 'Диаконт': 63,\n",
       " 'НЕВАПРЕСТИЖ': 64,\n",
       " 'РЕНЕССАНС КОНСТРАКШН': 65,\n",
       " 'ЛСР.Стеновые': 66,\n",
       " 'БЛАСТКО-3': 67,\n",
       " 'Унисфера': 68,\n",
       " 'ИМ-Групп': 69,\n",
       " 'АК ЭЛЕКТРО': 70,\n",
       " 'Риолит': 71,\n",
       " 'СТРОЙТЕКС': 72,\n",
       " 'ЛТС': 73,\n",
       " 'Антарес': 74,\n",
       " 'СЗКК': 75,\n",
       " 'Всеволожский крановый завод': 76,\n",
       " 'ПЗМС': 77,\n",
       " 'Ангара плюс': 78,\n",
       " 'АТЕК-СР': 79,\n",
       " 'СК Интей': 80,\n",
       " 'Интеркомплект': 81,\n",
       " 'Арсенал-1 АО': 82,\n",
       " 'Инстройсервис': 83,\n",
       " 'ЦентрСнаб': 84,\n",
       " 'НПК': 85,\n",
       " 'ПРОМСТРОЙРЕКОНСТРУКЦИЯ ООО': 86,\n",
       " 'ЭЛЕКТРОНИКА АТПП': 87,\n",
       " 'ПРОМКОМПЛЕКТТОРГ': 88,\n",
       " 'ТДС': 89,\n",
       " 'СПБ-Барс': 90,\n",
       " 'ЭЛЕКТРОД.РУ': 91,\n",
       " 'МОНТАЖЭНЕРГОПРОФ': 92,\n",
       " 'ШКОЛА ООО': 93,\n",
       " 'Единые решения': 94,\n",
       " 'Компания \"СК-ПИТЕР\"': 95,\n",
       " 'Северо-Западная ТЭЦ': 96,\n",
       " 'ТД ЛИТ-Электр': 97,\n",
       " 'Арсенал Групп': 98,\n",
       " 'ТД РЕПЛАСТИКО ООО': 99,\n",
       " 'Северная звезда': 100,\n",
       " 'СтальПром СПб': 101,\n",
       " 'ТехноБластСервис': 102,\n",
       " 'РОССТРОЙПРОГРЕСС': 103,\n",
       " 'ПТП Котлотехника': 104,\n",
       " 'Кронштадтский морской завод': 105,\n",
       " 'СПУТНИК': 106,\n",
       " 'СК РАВЕЛИН': 107,\n",
       " 'Альянс': 108,\n",
       " 'ТМС-СТРОЙ ООО': 109,\n",
       " 'СнабСтройГарант': 110,\n",
       " 'ЧИП ТРОНИК': 111,\n",
       " 'ЕвроТэк-СПб': 112,\n",
       " 'С-Мобиле': 113,\n",
       " 'Свердловский Инструмент': 114,\n",
       " 'ПЕТЕРБУРГСКОЕ СТЕКЛО': 115,\n",
       " 'Энергрес': 116,\n",
       " 'АРТ Инжиниринг ООО': 117,\n",
       " 'ФОРМАТ (другой)': 118,\n",
       " 'ПЭМ': 119,\n",
       " 'БАЛТСТРОЙ': 120,\n",
       " 'ТЭР-СЕРВИС ООО': 121,\n",
       " 'Технология Комфорта': 122,\n",
       " 'Тустин': 123,\n",
       " 'РайтБиз': 124,\n",
       " 'МатериалСтрой': 125,\n",
       " 'А-Проект': 126,\n",
       " 'ЛаМо': 127,\n",
       " 'ДЕТСКИЙ САД № 43 ПРИМОРСКОГО РАЙОНА': 128,\n",
       " 'ТЕМП ООО': 129,\n",
       " 'ЭЛВИС': 130,\n",
       " 'КРОСС': 131,\n",
       " 'КАРЬЕР ПУРГА': 132,\n",
       " 'Монтаж систем безопасности': 133,\n",
       " 'ПРОФИТ': 134,\n",
       " 'Клевер': 135,\n",
       " 'ИТС (Сев. город)': 136,\n",
       " 'ТеплоГазСтрой': 137,\n",
       " 'Стеск': 138,\n",
       " 'Союзтехресурс': 139,\n",
       " 'ПрофТеплоЭнергоКомплект': 140,\n",
       " 'Прогресс-Нева': 141,\n",
       " 'Оптобаза': 142,\n",
       " 'Электродный завод': 143,\n",
       " 'НОВЭК': 144,\n",
       " 'Мицар Трейд': 145,\n",
       " 'Система': 146,\n",
       " 'ТИМАКВА': 147,\n",
       " 'Аэропорт Мурманск': 148,\n",
       " 'Студия Экспонента': 149,\n",
       " 'ПАРУС ООО': 150,\n",
       " 'ВЕДО Рус': 151,\n",
       " 'ДСК №3': 152,\n",
       " 'Ростовский Малоэтажный Квартал': 153,\n",
       " 'СТРОЙИНВЕСТ': 154,\n",
       " 'Дельфин': 155,\n",
       " 'Горган Ю.В.': 156,\n",
       " 'ПЕТРОСТРОЙСВЯЗЬ ООО': 157,\n",
       " 'ТандемЭнерго': 158,\n",
       " 'Полипласт СПб': 159,\n",
       " 'Мост': 160,\n",
       " 'МИГ-СТРОЙ': 161,\n",
       " 'Силовые агрегаты': 162,\n",
       " 'Эскон': 163,\n",
       " 'Барк СПб': 164,\n",
       " 'ЗапСтанки': 165,\n",
       " 'Инструментальная компания ООО': 166,\n",
       " 'Пластко': 167,\n",
       " 'Альянс-Энерджи': 168,\n",
       " 'Стюарт Инспекшн': 169,\n",
       " 'Нептун': 170,\n",
       " 'НордГрад': 171,\n",
       " 'Айсберг-Строй-Сервис': 172,\n",
       " 'СР торг': 173,\n",
       " 'ТИТАН ИНЖИНИРИНГ': 174,\n",
       " 'АкваПрофСнаб ООО': 175,\n",
       " 'ООО \"СТРОЙ ИНСТРУМЕНТ\"': 176,\n",
       " 'СпецТехМаш': 177,\n",
       " 'Арсенал-7': 178,\n",
       " 'АСВ групп': 179,\n",
       " 'КМЗ Ижора-Металл': 180,\n",
       " 'СтройИнвест': 181,\n",
       " 'Деловой центр': 182,\n",
       " 'Галаксив': 183,\n",
       " 'Микрон-СПб': 184,\n",
       " 'ПАЙПЭЛАСТ': 185,\n",
       " 'Строймонтаж': 186,\n",
       " 'Светлана-Электронприбор': 187,\n",
       " 'Фабрика композитов': 188,\n",
       " 'ВИПЭК': 189,\n",
       " 'ПАРТНЕР ИНТ': 190,\n",
       " 'Сервис Сталь': 191,\n",
       " 'Промресурс': 192,\n",
       " 'ФЕНИКС': 193,\n",
       " 'КОМФОРТНОЕ РЕШЕНИЕ М ООО': 194,\n",
       " 'Коска декор': 195,\n",
       " 'Инстрой': 196,\n",
       " 'Лотос': 197,\n",
       " 'Метрополь Групп': 198,\n",
       " 'ПРОМЛОГИСТИК ООО': 199,\n",
       " 'ЛанитаСтрой': 200,\n",
       " 'НеваЭнергоИнжиниринг': 201,\n",
       " 'Уралэлектротяжмаш': 202,\n",
       " 'БМТС': 203,\n",
       " 'Строймеханизация': 204,\n",
       " 'ПромКонцерн': 205,\n",
       " 'Радиевый институт ': 206,\n",
       " 'МЕТАЛОН': 207,\n",
       " 'МСУ Регион': 208,\n",
       " 'Кратон': 209,\n",
       " 'РОС-СЕРВИС ООО': 210,\n",
       " 'РОСБИЛД ООО': 211,\n",
       " 'Формат ТД ООО': 212,\n",
       " 'ТД ХОЗДОМ': 213,\n",
       " 'Козерог': 214,\n",
       " 'Агат': 215,\n",
       " 'БСЗ': 216,\n",
       " 'ПроМар': 217,\n",
       " 'Арсенал-6': 218,\n",
       " 'ВЕКОС': 219,\n",
       " 'АвтоПлюс': 220,\n",
       " 'ИНСТРУМЕНТАРИЙ': 221,\n",
       " 'Корпорация Р-Индустрия': 222,\n",
       " 'ЛВК': 223,\n",
       " 'ИНТЕГРАЛ ООО': 224,\n",
       " 'ТОРГ-ИМПОРТ': 225,\n",
       " 'СМУ-34 ООО': 226,\n",
       " 'Мостгруппа': 227,\n",
       " 'ПРОДЭКС': 228,\n",
       " 'Леорса Эйдженси': 229,\n",
       " 'Алемма': 230,\n",
       " 'ФОРВАРД ООО': 231,\n",
       " 'ТСК БСС': 232,\n",
       " 'КС-Мурино': 233,\n",
       " 'БЕСТ': 234,\n",
       " 'БАРС': 235,\n",
       " 'АПА': 236,\n",
       " 'КСК': 237,\n",
       " 'Электродинамика': 238,\n",
       " 'МЕТИЗЫ ООО': 239,\n",
       " 'АЛЬБАТРОС ООО (покупатель)': 240,\n",
       " 'ЛСР. СТРОИТЕЛЬСТВО-СЗ ООО': 241,\n",
       " 'ДЕВОН РУС': 242,\n",
       " 'Промстрой': 243,\n",
       " 'МЕТАЛЛ СТРОЙ-ПЛАСТ ООО': 244,\n",
       " 'Парк 300-летия СПб': 245,\n",
       " 'Артель': 246,\n",
       " 'Эллада Интертрейд': 247,\n",
       " 'ЛАНСКОЕ ООО ПКФ': 248,\n",
       " 'ТЕКНЕКС': 249,\n",
       " 'СОМР ООО': 250,\n",
       " 'КТМ – Групп': 251,\n",
       " 'ПАРТНЕР': 252,\n",
       " 'ЭнергоСистемы': 253,\n",
       " 'РЕМДОРМАШ ООО': 254,\n",
       " 'РУСЭНЕРГО': 255,\n",
       " 'Торговый Дом Северная Пальмира ООО': 256,\n",
       " 'Теплосфера': 257,\n",
       " 'СПб ГКУ ПСО Кронштадтского района': 258,\n",
       " 'Кварц-Ресурс': 259,\n",
       " 'ГЕФЕСТЪ': 260,\n",
       " 'КВ Строй': 261,\n",
       " 'ПРОМСТРОЙКОМПЛЕКТАЦИЯ': 262,\n",
       " 'ЛСР.Строительство - Северо-Запад': 263,\n",
       " 'Деталь ООО': 264,\n",
       " 'Евроинструмент Групп': 265,\n",
       " 'СУ 61-38': 266,\n",
       " 'ТехноСтрой': 267,\n",
       " 'Апекс': 268,\n",
       " 'ПроГласс-old': 269,\n",
       " 'ФЛАГМАН ООО': 270,\n",
       " 'Автодизель': 271,\n",
       " 'СЛК-Спецтехника': 272,\n",
       " 'Мицуков Александр Александрович': 273,\n",
       " 'ВестКом': 274,\n",
       " 'МИЛЛИОН ИНСТРУМЕНТОВ': 275,\n",
       " 'С-Л-С': 276,\n",
       " 'Астор-Монолит': 277,\n",
       " 'Монтажные Технологии Строительство': 278,\n",
       " 'ЗФИ ООО': 279,\n",
       " 'Фагот': 280,\n",
       " 'МЕРКУРИЙ': 281,\n",
       " 'СВС Групп': 282,\n",
       " 'АРТ-Глас УК': 283,\n",
       " 'ТЕПЛОКОМ ЗАО': 284,\n",
       " 'Энергогазмонтаж': 285,\n",
       " 'Энергомонтаж': 286,\n",
       " 'ТВК-Инжиниринг ООО': 287,\n",
       " 'СК \"ТИТАН\"': 288,\n",
       " 'ПТМ': 289,\n",
       " 'НИИЭФА': 290,\n",
       " 'Анкерные системы': 291,\n",
       " 'Главспецодежда ТД ООО': 292,\n",
       " 'Грейд': 293,\n",
       " 'СК Тепло Инжиниринг': 294,\n",
       " 'НеваСтрой': 295,\n",
       " 'Арсенал Плюс': 296,\n",
       " 'СМУ-122': 297,\n",
       " 'Стройпроект': 298,\n",
       " 'ГидроАктив': 299,\n",
       " 'Альянс-Строй': 300,\n",
       " 'ПРОЕМ': 301,\n",
       " 'Северный город': 302,\n",
       " 'Красный Треугольник': 303,\n",
       " 'Торговый Дом Альянс': 304,\n",
       " 'НПЦ ОЭКН': 305,\n",
       " 'Атлант-Альфа': 306,\n",
       " 'ЭЛИГОС ООО': 307,\n",
       " 'Строй-Максимум': 308,\n",
       " 'ОПТ-СТРОЙ': 309,\n",
       " 'Военпоставка': 310,\n",
       " 'ПроГласс': 311,\n",
       " 'НордСтар': 312,\n",
       " 'ОренбургВостокСнаб': 313,\n",
       " 'ОборонТех ПК АО': 314,\n",
       " 'СБ СТРОЙ': 315,\n",
       " 'ЭПИК Балтика ООО': 316,\n",
       " 'СТРОЙКОМПЛЕКТ': 317,\n",
       " 'Александринский театр': 318,\n",
       " 'Климов': 319,\n",
       " 'Спецгидромонтаж': 320,\n",
       " 'ДСК Авангард': 321,\n",
       " 'ГТ Руслан': 322,\n",
       " 'ЛЭТИКОН': 323,\n",
       " 'МСУ-90': 324,\n",
       " 'ИНТЕРТРЕЙД ООО': 325,\n",
       " 'Холдинг Гефест': 326,\n",
       " 'Евро Кемикалс СПб': 327,\n",
       " 'Петроком': 328,\n",
       " 'ДорГранитСтрой': 329,\n",
       " 'Мартягин А.Ю. ИП': 330,\n",
       " 'ПЕТЕРБУРГСТРОЙ': 331,\n",
       " 'ИТСК': 332,\n",
       " 'ТК Эллипс, ООО': 333,\n",
       " 'Журавлев Игорь Николаевич': 334,\n",
       " 'СМК ООО': 335,\n",
       " 'Подрядчик': 336,\n",
       " 'ССК': 337,\n",
       " 'ТК ПАРТНЕР': 338,\n",
       " 'СИТИ': 339,\n",
       " 'НПО ЗЕМСНАРЯД': 340,\n",
       " 'Плитстрой': 341,\n",
       " 'СЕВЕРНЫЙ ПОТОК ООО': 342,\n",
       " 'Гидромашсервис': 343,\n",
       " 'КрепМастер - покупатель': 344,\n",
       " 'ПРЕЗИДЕНТ-НЕВА ЭНЕРГЕТИЧЕСКИЙ ЦЕНТР ООО': 345,\n",
       " 'ПТК': 346,\n",
       " 'ИнвестПроект': 347,\n",
       " 'Тепло-Сервис': 348,\n",
       " 'АГТС': 349,\n",
       " 'ТД ИНТЕР-ТРЕЙД': 350,\n",
       " 'НЕКСТ ФОРМ': 351,\n",
       " '211 КЖБИ': 352,\n",
       " 'Энергетическая компания Пальмира': 353,\n",
       " 'ТД Тандем ООО': 354,\n",
       " 'РосЭнергоСнаб': 355,\n",
       " 'Лужский абразивный завод': 356,\n",
       " 'Арсенал-3 АО': 357,\n",
       " 'КАЭС СПб': 358,\n",
       " 'Экспортер': 359,\n",
       " 'КБ-248': 360,\n",
       " 'Квант': 361,\n",
       " 'УК ВЕГА-ПРО': 362,\n",
       " 'АРСЕНАЛ-КАМЕНКА': 363,\n",
       " 'ИЗТТ': 364,\n",
       " 'ДоброСтрой': 365,\n",
       " 'АРТ-ПАНТЕОН': 366,\n",
       " 'ЛЕВЕЛ': 367,\n",
       " 'ДомСтройСоюз (СК ДСС)': 368,\n",
       " 'ПКФ Этна': 369,\n",
       " 'Фин-Мед ООО': 370,\n",
       " 'НПО СМ': 371,\n",
       " 'Айсберг-Сервис ООО': 372,\n",
       " 'КС-ЦЕНТР': 373,\n",
       " 'Сэтл Групп': 374,\n",
       " 'ЛСР. КРАНЫ-СЗ АО': 375,\n",
       " 'Айс Плюс': 376,\n",
       " 'Подъемное оборудование ООО': 377,\n",
       " 'Фасад-Сити': 378,\n",
       " 'Боргус': 379,\n",
       " 'НКА-СтройСервис': 380,\n",
       " 'ПРОГРЕСС': 381,\n",
       " 'Юпитер': 382,\n",
       " 'Северюхин Алексей Леонидович': 383,\n",
       " 'Строй Софт': 384,\n",
       " 'БелТекстильСнаб': 385,\n",
       " 'Нева-комплект': 386,\n",
       " 'АЛЬЯНС': 387,\n",
       " 'АДС ООО': 388,\n",
       " 'Ланитекс-Оптима-7': 389,\n",
       " 'Типплер': 390,\n",
       " 'Ленатомэнергоремонт': 391,\n",
       " 'Промышленная группа АЛД': 392,\n",
       " 'ЦЕНТР КОМПЛЕКТАЦИИ': 393,\n",
       " 'Балтремтех ООО': 394,\n",
       " 'КамСтройСервис': 395,\n",
       " 'СКБ ВТ АО': 396,\n",
       " 'Гефест2': 397,\n",
       " 'Гидросистемы': 398,\n",
       " 'ПИК': 399,\n",
       " 'Минимакс': 400,\n",
       " 'Строй-ка': 401,\n",
       " 'Спецтранс': 402,\n",
       " 'Эллай  Техникал  Суплай': 403,\n",
       " 'СК-СТАНДАРТ ООО': 404,\n",
       " 'Аквафор': 405,\n",
       " 'СЗ Евроинвест Девелопмент СПб': 406,\n",
       " 'РЕФОРМА': 407,\n",
       " 'ТЕМП ООО покупатель': 408,\n",
       " 'СВАРГОС ООО': 409,\n",
       " 'А ГРУПП Стальные Конструкции': 410,\n",
       " 'ВНИИТРАНСМАШ': 411,\n",
       " 'Лэнд': 412,\n",
       " 'Энерго-ресурс ООО': 413,\n",
       " 'Наше радушие': 414,\n",
       " 'СМС': 415,\n",
       " 'Флерон': 416,\n",
       " 'Казанский завод Электроприбор': 417,\n",
       " 'БАЛТ ТРАК': 418,\n",
       " 'ЭНКЕ': 419,\n",
       " 'ЭЛКОМ': 420,\n",
       " 'ЛЕВША': 421,\n",
       " 'Неоком Софтвеа Солюшенс': 422,\n",
       " 'СФЕРА': 423,\n",
       " 'Абсолют': 424,\n",
       " 'Арсенал-5': 425,\n",
       " 'Профиль': 426,\n",
       " 'Промстройматериалы ООО': 427,\n",
       " 'Астиаг': 428,\n",
       " 'СК Дали': 429,\n",
       " 'Трест Гидромонтаж': 430,\n",
       " 'Машэнерго': 431,\n",
       " 'А-СТРОЙ ООО': 432,\n",
       " 'Энерговектор': 433,\n",
       " 'Покупатель': 434,\n",
       " 'Новый Лидер': 435,\n",
       " 'Летфикс': 436,\n",
       " 'ТД ОВИК ООО': 437,\n",
       " 'ГК СПБ ВОСТОК': 438,\n",
       " 'альга-РЭП': 439,\n",
       " 'ЭсТи Профи': 440,\n",
       " 'Ивалон': 441,\n",
       " 'Пром-Свет': 442,\n",
       " 'ПроОбраз': 443,\n",
       " 'Эра Марин': 444,\n",
       " 'ТЛК Система': 445,\n",
       " 'УСК \"ПКК\"': 446,\n",
       " 'Латрэс': 447,\n",
       " 'ЛЕНМОРНИИПРОЕКТ АО': 448,\n",
       " 'ЖКС № 1 Выборгского района': 449,\n",
       " 'БАЛТМОСТСТРОЙ ООО': 450,\n",
       " 'ТВОЯ ОПТИКА ООО': 451,\n",
       " 'ВИЗОТЕК РУС': 452,\n",
       " 'СВЯЗЬЭЛЕКТРОМОНТАЖ': 453,\n",
       " 'Армония групп': 454,\n",
       " 'НГ-Энерго': 455,\n",
       " 'ВСК': 456,\n",
       " 'Авентин Инжиниринг': 457,\n",
       " 'ПТК \"Спорт\"': 458,\n",
       " 'ЕСК СПб': 459,\n",
       " 'ПромКомплект': 460,\n",
       " 'СЭТЛ СТРОЙ': 461,\n",
       " 'Питер Белл': 462,\n",
       " 'РЕС': 463,\n",
       " 'ЛДР-Строй': 464,\n",
       " 'Капитель Вент': 465,\n",
       " 'ШМИДТ ДМИТРИЙ ВИКТОРОВИЧ': 466,\n",
       " 'Фэмас': 467,\n",
       " 'Сиго Марин': 468,\n",
       " 'Магистраль': 469,\n",
       " 'ЭНЕРГОТЕХСТРОЙ 2000': 470,\n",
       " 'СЛОТ-ПЛЮС': 471,\n",
       " 'Вендер ООО': 472,\n",
       " 'ТеплоЭнерго': 473,\n",
       " 'ВТВ СПИК покупатель': 474,\n",
       " 'ПРОМИКС-СТРОЙ.СПб ООО': 475,\n",
       " 'НПП ТРИМ СШП Измерительные системы': 476,\n",
       " 'Индиго': 477,\n",
       " 'Балтийский Балкерный Терминал': 478,\n",
       " 'Арсенал-2 АО': 479,\n",
       " 'Луч': 480,\n",
       " 'СЭТ': 481,\n",
       " 'Уманский Игорь Витальевич': 482,\n",
       " 'Строй Индустрия ': 483,\n",
       " 'ИМПУЛЬС (ИНН 7804194366)': 484,\n",
       " 'Проминдустрия': 485,\n",
       " 'Компакт': 486,\n",
       " 'ЧОО ОСС+': 487,\n",
       " 'Тульская Гармонь': 488,\n",
       " 'ЭМЗ': 489,\n",
       " 'Айсберг-Сервис': 490,\n",
       " 'КРЕАЛ': 491,\n",
       " 'Нортон': 492,\n",
       " 'ТОРГОВЫЙ ДОМ ИНТЕГРАЦИЯ (ТМС)': 493,\n",
       " 'Боскалис': 494,\n",
       " 'ТК-НЕВА': 495,\n",
       " 'БилдСПБ': 496,\n",
       " 'РусТелКом ООО': 497,\n",
       " 'ЛСК Монтаж': 498,\n",
       " 'ЭСМА': 499,\n",
       " 'ФАРМ': 500,\n",
       " 'НТК Азимут плюс': 501,\n",
       " 'ПИКА': 502,\n",
       " 'ЛЕГАТ': 503,\n",
       " 'СТРОИТЕЛЬНАЯ КОМПАНИЯ \"ПОЗИТИВ\"': 504,\n",
       " 'АТ-Мастер': 505,\n",
       " 'ДОМИНАНТА ООО': 506,\n",
       " 'Мегаполис': 507,\n",
       " 'Северный проект': 508,\n",
       " 'КАУРУС АЛЬЯНС': 509,\n",
       " 'МЕТАЛЛСЕРВИС-САНКТ-ПЕТЕРБУРГ': 510,\n",
       " 'СВ Техно': 511,\n",
       " 'Анда М': 512,\n",
       " 'ГазЭнергоГрупп ООО': 513,\n",
       " 'АТМ Компания': 514,\n",
       " 'ППСК ООО': 515,\n",
       " 'БАСинжиниринг': 516,\n",
       " 'Эверест': 517,\n",
       " 'Такелаж': 518,\n",
       " 'СЕВЗАПДОРСТРОЙ-1 ЗАО': 519,\n",
       " 'СТМ': 520,\n",
       " 'Завод АТИ (Покупатель)': 521,\n",
       " 'РМ \"Наследие\"': 522,\n",
       " 'Завод АТИ': 523,\n",
       " 'Нева-Строй': 524,\n",
       " 'МДМ-Печать': 525,\n",
       " 'Ростехснаб ЗАО (Клиент)': 526,\n",
       " 'МегаМастер-Плюс': 527,\n",
       " 'ПРОФИЛЬНЫЕ СИСТЕМЫ ООО': 528,\n",
       " 'УК Солнечный': 529,\n",
       " 'Центр СПб ГУДП': 530,\n",
       " 'Дитон': 531,\n",
       " 'ГЕСЕР': 532,\n",
       " 'ВентКомп': 533,\n",
       " 'СкайСтрой': 534,\n",
       " 'НС-Проект': 535,\n",
       " 'НордЭлектроПром': 536,\n",
       " 'СтройБалт': 537,\n",
       " 'Группа компаний Балтадванс': 538,\n",
       " 'ТСК ООО': 539,\n",
       " 'Стройком': 540,\n",
       " 'Пион': 541,\n",
       " 'Снабмет': 542,\n",
       " 'Техномарин': 543,\n",
       " 'ИНЖСТРОЙ СПБ ООО': 544,\n",
       " 'ООО \"Инструментальные технологии\"': 545,\n",
       " 'ПСТ-Строй': 546,\n",
       " 'Хоффманн Профессиональный Инструмент': 547,\n",
       " 'Альфа СтройСервис': 548,\n",
       " 'Оператор логистических комплексов': 549,\n",
       " 'Завод МААРС': 550,\n",
       " 'ЗРТО': 551,\n",
       " 'ГДД': 552,\n",
       " 'ЦКБ МТ Рубин': 553,\n",
       " 'Сантехстрой': 554,\n",
       " 'Механический завод Спецтранс': 555,\n",
       " 'Никифоров Сергей Александрович': 556,\n",
       " 'ЗАВОД МЕДВЕДЬ ООО': 557,\n",
       " 'Сервисные решения': 558,\n",
       " 'РИД-СТРОЙ': 559,\n",
       " 'КБСМ': 560,\n",
       " 'АВОНЕР ООО': 561,\n",
       " 'Риквэст-Сервис': 562,\n",
       " 'Шельф Саплай': 563,\n",
       " 'Балтсудопоставка': 564,\n",
       " 'СЕРВИС ГРУПП': 565,\n",
       " 'Гефест': 566,\n",
       " 'СУ 71': 567,\n",
       " 'ЭнергоПроф': 568,\n",
       " 'Торговый дом Зартый': 569,\n",
       " 'Энерготрейд': 570,\n",
       " 'ТД  ХОЛДИНГА ТЕПЛОКОМ ЗАО': 571,\n",
       " 'Завод ИЛКОМ': 572,\n",
       " 'Завод электропульт': 573,\n",
       " 'СК Альянс': 574,\n",
       " 'МихЛайн': 575,\n",
       " 'Би.Си.Си.': 576,\n",
       " 'СИБУР-Портэнерго': 577,\n",
       " 'Арсенал-10': 578,\n",
       " 'Компания Корвет': 579,\n",
       " 'Технодор': 580,\n",
       " 'Дизельзипсервис': 581,\n",
       " 'Тесерра': 582,\n",
       " 'ПКК Ресурс': 583,\n",
       " 'Производственные инструменты': 584,\n",
       " 'Энергопроммонтаж': 585,\n",
       " 'ЭталонСтрой-РиО': 586,\n",
       " 'Бесттулс': 587,\n",
       " 'КрепТрейд': 588,\n",
       " 'ЛСР. Базовые': 589,\n",
       " 'ММК': 590,\n",
       " 'СК АВАНГАРД': 591,\n",
       " 'Средненевский завод': 592,\n",
       " 'Спецкомплект': 593,\n",
       " 'Мостострой №6': 594,\n",
       " 'МК Надежда': 595,\n",
       " 'СЗК': 596,\n",
       " 'Арсенал-4': 597,\n",
       " 'АПГ Восточная Европа': 598,\n",
       " 'КомСервис': 599,\n",
       " 'Валенсия': 600,\n",
       " 'Смарт АйТи': 601,\n",
       " 'ИНСТРОЙПРОЕКТ ООО': 602,\n",
       " 'МелитСтрой': 603,\n",
       " 'ПромСервис-СПб ООО': 604,\n",
       " 'ТТ14 АО ГК': 605,\n",
       " 'АО СКБ Турбина': 606,\n",
       " 'ОДК-Климов': 607,\n",
       " 'РЕМЭЛКО': 608,\n",
       " 'СТАЛТ ООО': 609,\n",
       " 'Простые решения': 610,\n",
       " 'БалтМетИз': 611,\n",
       " 'Гефест ФНПП': 612,\n",
       " 'ПМЗ ОАО': 613,\n",
       " 'АВАНГАРДСТРОЙ ООО': 614,\n",
       " 'ПИТЕРГРАД': 615,\n",
       " 'Электрон': 616,\n",
       " 'Кран-балки': 617,\n",
       " 'ФСС покупатель': 618,\n",
       " 'Семейный капитал. Строй': 619,\n",
       " 'Мегадор': 620,\n",
       " 'Камень-Град': 621,\n",
       " 'СК ДСС': 622,\n",
       " 'РОНИС': 623,\n",
       " 'Котласский химзавод': 624,\n",
       " 'СОЗВЕЗДИЕ ООО': 625,\n",
       " 'Евразия Про': 626,\n",
       " 'ЕСК': 627,\n",
       " 'МонтажПрофи': 628,\n",
       " 'ИП Громова Наталия Ивановна': 629,\n",
       " 'НС-Продукт': 630,\n",
       " 'Балтийская Кабельная Компания': 631,\n",
       " 'ЗМК №13': 632,\n",
       " 'СК СОЮЗ': 633,\n",
       " 'УСК ПКК': 634,\n",
       " 'ЛТСС': 635,\n",
       " 'ПРОФКОНТРОЛЬ': 636,\n",
       " 'ГМЗ Петергоф': 637,\n",
       " 'СП Альянс Групп': 638,\n",
       " 'ЕВРОЛЮКС-СТРОЙ': 639,\n",
       " 'Электрощит-Монтаж': 640,\n",
       " 'ГЕНСНАБ ООО': 641,\n",
       " 'ЭнергоСтрой': 642,\n",
       " 'СМУ-04': 643,\n",
       " 'Кондор': 644,\n",
       " 'ГАЗПРОМ ОАО': 645,\n",
       " 'АЭРО СПИК': 646,\n",
       " 'Севкабель': 647,\n",
       " 'Норгау Руссланд': 648,\n",
       " 'ПрофПак Сервис': 649,\n",
       " 'СТС-Трейд': 650,\n",
       " 'АКВА-СНАБ': 651,\n",
       " 'Родиус': 652,\n",
       " 'ПРОФЕССИОНАЛ СНАБЖЕНИЯ': 653,\n",
       " 'Спектр': 654,\n",
       " 'ЭЛИТ СТРОЙ ООО': 655,\n",
       " 'ТехАтомСтрой': 656,\n",
       " 'ФГУП «ГУССТ № 3 при Спецстрое России»': 657,\n",
       " 'ТСЖ  ”Надежда”   ': 658,\n",
       " 'Профкомплект': 659,\n",
       " 'КР-Комплекс': 660,\n",
       " 'Интех': 661,\n",
       " 'АйТи-Формула': 662,\n",
       " 'ВИКТОРИЯ': 663,\n",
       " 'ВЕРТЕК ООО': 664,\n",
       " 'Альфа-Дом Сервис': 665,\n",
       " 'ПРАЙМ КОННЕКТ': 666,\n",
       " 'МИСТЭК': 667,\n",
       " 'Юнона': 668,\n",
       " 'МБ СТРОЙ ООО': 669,\n",
       " 'БТС': 670,\n",
       " 'МеталлИнвестСПб': 671,\n",
       " 'Генеральная Строительная Корпорация': 672,\n",
       " 'Студия \"КонтАкт продакшн\"': 673,\n",
       " 'Торговый Дом \"КМ\"': 674,\n",
       " 'Центр снабжения': 675,\n",
       " 'Ти Пи Ви Си-Ай-Эс': 676,\n",
       " 'Фасад Реконструкция': 677,\n",
       " 'СП-Логистика': 678,\n",
       " 'АСК ООО': 679,\n",
       " 'АВАНГАРД Юрий Николаевич': 680,\n",
       " 'АРТ-Глас': 681,\n",
       " 'Евразия-Приозерск': 682,\n",
       " 'АйЭм-Энерго': 683,\n",
       " 'САУТЕК ЗАО': 684,\n",
       " 'СТРОЙ ПРОГРЕСС': 685,\n",
       " 'Строй-Эксперт ВИТУ': 686,\n",
       " 'Строймастер': 687,\n",
       " 'ИнжМонтажНаладка': 688}"
      ]
     },
     "execution_count": 78,
     "metadata": {},
     "output_type": "execute_result"
    }
   ],
   "source": [
    "n=1\n",
    "dict = {}\n",
    "for i in set(X_train['Контрагент']):\n",
    "    dict[i]=n\n",
    "    n+=1\n",
    "dict    "
   ]
  },
  {
   "cell_type": "code",
   "execution_count": 79,
   "metadata": {},
   "outputs": [
    {
     "name": "stderr",
     "output_type": "stream",
     "text": [
      "C:\\ProgramData\\Anaconda3\\lib\\site-packages\\ipykernel_launcher.py:1: SettingWithCopyWarning: \n",
      "A value is trying to be set on a copy of a slice from a DataFrame.\n",
      "Try using .loc[row_indexer,col_indexer] = value instead\n",
      "\n",
      "See the caveats in the documentation: http://pandas.pydata.org/pandas-docs/stable/user_guide/indexing.html#returning-a-view-versus-a-copy\n",
      "  \"\"\"Entry point for launching an IPython kernel.\n",
      "C:\\ProgramData\\Anaconda3\\lib\\site-packages\\ipykernel_launcher.py:2: SettingWithCopyWarning: \n",
      "A value is trying to be set on a copy of a slice from a DataFrame.\n",
      "Try using .loc[row_indexer,col_indexer] = value instead\n",
      "\n",
      "See the caveats in the documentation: http://pandas.pydata.org/pandas-docs/stable/user_guide/indexing.html#returning-a-view-versus-a-copy\n",
      "  \n"
     ]
    },
    {
     "data": {
      "text/html": [
       "<div>\n",
       "<style scoped>\n",
       "    .dataframe tbody tr th:only-of-type {\n",
       "        vertical-align: middle;\n",
       "    }\n",
       "\n",
       "    .dataframe tbody tr th {\n",
       "        vertical-align: top;\n",
       "    }\n",
       "\n",
       "    .dataframe thead th {\n",
       "        text-align: right;\n",
       "    }\n",
       "</style>\n",
       "<table border=\"1\" class=\"dataframe\">\n",
       "  <thead>\n",
       "    <tr style=\"text-align: right;\">\n",
       "      <th></th>\n",
       "      <th>Контрагент</th>\n",
       "      <th>КолПозиций</th>\n",
       "      <th>СуммаСчета</th>\n",
       "    </tr>\n",
       "  </thead>\n",
       "  <tbody>\n",
       "    <tr>\n",
       "      <td>0</td>\n",
       "      <td>379</td>\n",
       "      <td>19</td>\n",
       "      <td>26876.00</td>\n",
       "    </tr>\n",
       "    <tr>\n",
       "      <td>1</td>\n",
       "      <td>402</td>\n",
       "      <td>1</td>\n",
       "      <td>16520.00</td>\n",
       "    </tr>\n",
       "    <tr>\n",
       "      <td>2</td>\n",
       "      <td>402</td>\n",
       "      <td>1</td>\n",
       "      <td>3980.14</td>\n",
       "    </tr>\n",
       "    <tr>\n",
       "      <td>3</td>\n",
       "      <td>402</td>\n",
       "      <td>4</td>\n",
       "      <td>6873.50</td>\n",
       "    </tr>\n",
       "    <tr>\n",
       "      <td>4</td>\n",
       "      <td>402</td>\n",
       "      <td>3</td>\n",
       "      <td>5040.00</td>\n",
       "    </tr>\n",
       "    <tr>\n",
       "      <td>...</td>\n",
       "      <td>...</td>\n",
       "      <td>...</td>\n",
       "      <td>...</td>\n",
       "    </tr>\n",
       "    <tr>\n",
       "      <td>30153</td>\n",
       "      <td>53</td>\n",
       "      <td>2</td>\n",
       "      <td>5900.00</td>\n",
       "    </tr>\n",
       "    <tr>\n",
       "      <td>30154</td>\n",
       "      <td>84</td>\n",
       "      <td>2</td>\n",
       "      <td>13151.00</td>\n",
       "    </tr>\n",
       "    <tr>\n",
       "      <td>30156</td>\n",
       "      <td>546</td>\n",
       "      <td>5</td>\n",
       "      <td>95948.00</td>\n",
       "    </tr>\n",
       "    <tr>\n",
       "      <td>30157</td>\n",
       "      <td>429</td>\n",
       "      <td>3</td>\n",
       "      <td>1110.00</td>\n",
       "    </tr>\n",
       "    <tr>\n",
       "      <td>30159</td>\n",
       "      <td>429</td>\n",
       "      <td>5</td>\n",
       "      <td>0.00</td>\n",
       "    </tr>\n",
       "  </tbody>\n",
       "</table>\n",
       "<p>29086 rows × 3 columns</p>\n",
       "</div>"
      ],
      "text/plain": [
       "      Контрагент  КолПозиций  СуммаСчета\n",
       "0            379          19    26876.00\n",
       "1            402           1    16520.00\n",
       "2            402           1     3980.14\n",
       "3            402           4     6873.50\n",
       "4            402           3     5040.00\n",
       "...          ...         ...         ...\n",
       "30153         53           2     5900.00\n",
       "30154         84           2    13151.00\n",
       "30156        546           5    95948.00\n",
       "30157        429           3     1110.00\n",
       "30159        429           5        0.00\n",
       "\n",
       "[29086 rows x 3 columns]"
      ]
     },
     "execution_count": 79,
     "metadata": {},
     "output_type": "execute_result"
    }
   ],
   "source": [
    "X_train['Контрагент']=X_train['Контрагент'].map(dict)\n",
    "X_train['Контрагент']=X_train['Контрагент'].astype('category')\n",
    "X_train"
   ]
  },
  {
   "cell_type": "code",
   "execution_count": 80,
   "metadata": {},
   "outputs": [
    {
     "data": {
      "text/plain": [
       "[1, 1, 1, 1, 1, ..., 0, 0, 0, 0, 0]\n",
       "Length: 29086\n",
       "Categories (2, int64): [0, 1]"
      ]
     },
     "execution_count": 80,
     "metadata": {},
     "output_type": "execute_result"
    }
   ],
   "source": [
    "y_train = df_clean_pos['СтатусОтгрузки'].values\n",
    "y_train"
   ]
  },
  {
   "cell_type": "code",
   "execution_count": 81,
   "metadata": {},
   "outputs": [
    {
     "name": "stdout",
     "output_type": "stream",
     "text": [
      "<class 'pandas.core.frame.DataFrame'>\n",
      "Int64Index: 29086 entries, 0 to 30159\n",
      "Data columns (total 3 columns):\n",
      "Контрагент    29086 non-null category\n",
      "КолПозиций    29086 non-null int64\n",
      "СуммаСчета    29086 non-null float64\n",
      "dtypes: category(1), float64(1), int64(1)\n",
      "memory usage: 763.9 KB\n"
     ]
    }
   ],
   "source": [
    "X_train.info()"
   ]
  },
  {
   "cell_type": "code",
   "execution_count": 82,
   "metadata": {},
   "outputs": [],
   "source": [
    "lr=LogisticRegression(solver=\"liblinear\")"
   ]
  },
  {
   "cell_type": "code",
   "execution_count": 83,
   "metadata": {},
   "outputs": [
    {
     "data": {
      "text/plain": [
       "LogisticRegression(C=1.0, class_weight=None, dual=False, fit_intercept=True,\n",
       "                   intercept_scaling=1, l1_ratio=None, max_iter=100,\n",
       "                   multi_class='warn', n_jobs=None, penalty='l2',\n",
       "                   random_state=None, solver='liblinear', tol=0.0001, verbose=0,\n",
       "                   warm_start=False)"
      ]
     },
     "execution_count": 83,
     "metadata": {},
     "output_type": "execute_result"
    }
   ],
   "source": [
    "lr.fit(X_train,y_train)"
   ]
  },
  {
   "cell_type": "code",
   "execution_count": 84,
   "metadata": {},
   "outputs": [],
   "source": [
    "y_pred = lr.predict(X_train)"
   ]
  },
  {
   "cell_type": "code",
   "execution_count": 85,
   "metadata": {},
   "outputs": [
    {
     "data": {
      "text/plain": [
       "array([1, 1, 1, ..., 1, 1, 1], dtype=int64)"
      ]
     },
     "execution_count": 85,
     "metadata": {},
     "output_type": "execute_result"
    }
   ],
   "source": [
    "y_pred"
   ]
  },
  {
   "cell_type": "code",
   "execution_count": 86,
   "metadata": {},
   "outputs": [
    {
     "data": {
      "text/plain": [
       "98.78635769786152"
      ]
     },
     "execution_count": 86,
     "metadata": {},
     "output_type": "execute_result"
    }
   ],
   "source": [
    "y_pred.sum()/len(y_pred)*100"
   ]
  },
  {
   "cell_type": "markdown",
   "metadata": {},
   "source": [
    "Уже видно что полчилась ерунда. У нас среднее подтверждение было 78%, а предсказывает почти 99%"
   ]
  },
  {
   "cell_type": "code",
   "execution_count": 87,
   "metadata": {},
   "outputs": [
    {
     "data": {
      "text/plain": [
       "0.7868734098879185"
      ]
     },
     "execution_count": 87,
     "metadata": {},
     "output_type": "execute_result"
    }
   ],
   "source": [
    "accuracy_score(y_train,y_pred)"
   ]
  },
  {
   "cell_type": "code",
   "execution_count": null,
   "metadata": {},
   "outputs": [],
   "source": []
  }
 ],
 "metadata": {
  "kernelspec": {
   "display_name": "Python 3",
   "language": "python",
   "name": "python3"
  },
  "language_info": {
   "codemirror_mode": {
    "name": "ipython",
    "version": 3
   },
   "file_extension": ".py",
   "mimetype": "text/x-python",
   "name": "python",
   "nbconvert_exporter": "python",
   "pygments_lexer": "ipython3",
   "version": "3.7.4"
  }
 },
 "nbformat": 4,
 "nbformat_minor": 2
}
